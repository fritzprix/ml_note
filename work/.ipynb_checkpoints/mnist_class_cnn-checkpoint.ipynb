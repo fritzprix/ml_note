{
 "cells": [
  {
   "cell_type": "code",
   "execution_count": 19,
   "metadata": {},
   "outputs": [],
   "source": [
    "from sklearn.datasets import load_digits\n",
    "import matplotlib.pyplot as plt\n",
    "import tensorflow as tf\n",
    "digits = load_digits()\n",
    "\n",
    "images = digits.images\n",
    "labels = digits.target\n",
    "\n",
    "channels = 4\n",
    "channel_filters = 30\n",
    "l, w, h = images.shape\n",
    "c = 1\n",
    "\n",
    "with tf.name_scope('input'):\n",
    "    X = tf.placeholder(dtype=tf.float32, shape=(None, w, h))\n",
    "    X_tp = tf.reshape(X, (-1, w, h, c))\n",
    "    [tf.keras.layers.Conv2D(channel_filters, (2,2), 1) for i in range(channels)]"
   ]
  }
 ],
 "metadata": {
  "kernelspec": {
   "display_name": "Python 3",
   "language": "python",
   "name": "python3"
  },
  "language_info": {
   "codemirror_mode": {
    "name": "ipython",
    "version": 3
   },
   "file_extension": ".py",
   "mimetype": "text/x-python",
   "name": "python",
   "nbconvert_exporter": "python",
   "pygments_lexer": "ipython3",
   "version": "3.6.9"
  }
 },
 "nbformat": 4,
 "nbformat_minor": 4
}
