{
 "cells": [
  {
   "cell_type": "markdown",
   "id": "e8967d8a",
   "metadata": {},
   "source": [
    "# Chapter 8. Recurrent Neural Networks\n",
    "- Tabular Data => MLP \n",
    "- Image => CNN\n",
    "- MLP 및 CNN까지는 I.I.D (Independent / Identically Distributed)가정 기본 조건으로 하였음\n",
    "- 언어 / 비디오 이미지 / 오디오 등 데이터에 대해서는 I.I.D 가정이 성립되지 않음"
   ]
  }
 ],
 "metadata": {
  "kernelspec": {
   "display_name": "Python 3 (ipykernel)",
   "language": "python",
   "name": "python3"
  },
  "language_info": {
   "codemirror_mode": {
    "name": "ipython",
    "version": 3
   },
   "file_extension": ".py",
   "mimetype": "text/x-python",
   "name": "python",
   "nbconvert_exporter": "python",
   "pygments_lexer": "ipython3",
   "version": "3.8.12"
  }
 },
 "nbformat": 4,
 "nbformat_minor": 5
}
