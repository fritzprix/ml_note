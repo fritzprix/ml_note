{
 "cells": [
  {
   "cell_type": "markdown",
   "id": "5acafd31",
   "metadata": {},
   "source": [
    "# Chapter.1 Introduction\n",
    "\n",
    "### Supervised Learning\n",
    "- Ground truth에 해당하는 labeled dataset을 이용해 parameters를 구하는 것\n",
    "- 통계적으로 입력에 대한 label의 Conditional Probability를 구하는 것\n",
    "\n",
    "## Regression\n",
    "- 가장 단순한 형태의 supervised learning \n",
    "- ```how many?``` 혹은 ```how much?```와 같은 문제에 적합\n",
    "- 모델의 예측이 데이터와 완전히 일치가 불가능할 경우 \n",
    "  - MSE loss function을 사용 통해 근사 시킴 \n",
    "\n",
    "##  Classification\n",
    "- Class의 종류에 따라 Binary / Multi label classification  "
   ]
  },
  {
   "cell_type": "code",
   "execution_count": 1,
   "id": "12c52ab9",
   "metadata": {},
   "outputs": [
    {
     "name": "stdout",
     "output_type": "stream",
     "text": [
      "Collecting dl2\n",
      "  Downloading dl2-0.21.816.tar.gz (5.7 kB)\n",
      "Building wheels for collected packages: dl2\n",
      "  Building wheel for dl2 (setup.py) ... \u001b[?25ldone\n",
      "\u001b[?25h  Created wheel for dl2: filename=dl2-0.21.816-py3-none-any.whl size=6701 sha256=9f28abbefba372da1b6fa16257d33633062cf73233815398db2b6c59eef01f4e\n",
      "  Stored in directory: /root/.cache/pip/wheels/0a/0c/e5/2a5e3860b06658ecad69baac096ae40a96247bd83d097522eb\n",
      "Successfully built dl2\n",
      "Installing collected packages: dl2\n",
      "Successfully installed dl2-0.21.816\n",
      "\u001b[33mWARNING: Running pip as the 'root' user can result in broken permissions and conflicting behaviour with the system package manager. It is recommended to use a virtual environment instead: https://pip.pypa.io/warnings/venv\u001b[0m\n"
     ]
    }
   ],
   "source": [
    "import torch\n",
    "!pip install dl2"
   ]
  }
 ],
 "metadata": {
  "kernelspec": {
   "display_name": "Python 3 (ipykernel)",
   "language": "python",
   "name": "python3"
  },
  "language_info": {
   "codemirror_mode": {
    "name": "ipython",
    "version": 3
   },
   "file_extension": ".py",
   "mimetype": "text/x-python",
   "name": "python",
   "nbconvert_exporter": "python",
   "pygments_lexer": "ipython3",
   "version": "3.8.12"
  }
 },
 "nbformat": 4,
 "nbformat_minor": 5
}
