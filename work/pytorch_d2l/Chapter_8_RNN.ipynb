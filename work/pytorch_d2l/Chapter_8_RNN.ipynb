{
 "cells": [
  {
   "cell_type": "markdown",
   "id": "e8967d8a",
   "metadata": {},
   "source": [
    "# Chapter 8. Recurrent Neural Networks\n",
    "- Tabular Data => MLP \n",
    "- Image => CNN\n",
    "- MLP 및 CNN까지는 I.I.D (Independent / Identically Distributed)가정 기본 조건으로 하였음\n",
    "- 언어 / 비디오 이미지 / 오디오 등 데이터에 대해서는 I.I.D 가정이 성립되지 않음\n",
    "- Sequence를 입력으로 받을 뿐 아니라 Sequence를 이어 나가는 것을 해야될 수도 있다. (Stock Price Prediction 등)\n",
    "> CNN는 공간적 정보(Spatial Information)을 처리하는데 효과적이었다면 RNN은 순차적 정보 (Sequential Information)을 더 효과적으로 처리\n",
    "\n",
    "## Sequence Models\n",
    "- 영화의 Review를 분석하는 예시에서 사람의 의견은 시간에 따라 변함\n",
    "  - Anchoring \n",
    "    - 다른사람들의 의견이 영향을 주는 것. Oscar Awards를 받은 영화의 시청률이 오르는 것\n",
    "  - Hedonic Adaptation \n",
    "    - 명작을 보고 난 후 다른 영화가 상대적으로 더 나빠 보이는 것\n",
    "  - Seassonality \n",
    "    - 여름에는 공포 영화 / 겨울에는 크리스마스 가족 영화 ...\n",
    "  - 감독이나 출연 배우의 사회적 평판 등\n",
    "  - 영화가 최악인 경우 오히려 Cult 무비로써 인기를 얻는 경우\n",
    "- 반면 Movie Rating은 이러한 Dynamic을 표현하지 못함\n",
    "- 따라서 일시적 Dynamic를 사용하면 더 정확한 추천 할 수 있음 \n",
    "\n",
    "### Statistical Tools \n",
    "- Stock Price 예측의 문제\n",
    "- 이전의 데이터를 입력으로 다음 값을 예측\n",
    "  - P(xt | xt-1 ...., x1)\n",
    "\n",
    "### Autoregressive Models\n",
    "- Linear Regression를 이러한 순열 문제에 적용하기 위해서 몇 가지 고려사항들이 있는데...\n",
    "  - xt를 예측하기 위한 입력 (전체 구간의 과거 데이터)는 xt-1,...,x1은 시간 t에 따라 증가함 (t가 증가하면 데이터도 같이 누적됨으로..)\n",
    "  - 이러한 데이터를 연산에 적합한 형태로 근사 시켜야 함\n",
    "  - 이러한 문제를 해결하기 위하여 아래와 같은 추가적인 전략을 채용한 Latent Regressive Model을 고안\n",
    "#### Latent Autoregressive Model\n",
    "  - x1 ~ xt-1까지 다 필요 없고 일정한 time span을 정해서 입력 -> 입력 길이 고정\n",
    "  - 그리고 고정 time span 이외의 데이터 (더 과거)에 대한 일종의 Summary로써 hidden state를 관하고 새로운 입력에 대해 hidden state를 업데이트\n",
    "  - Data의 값 자체는 Dynmic한 성질을 가지고 변화하지만, Dynmic 성질을 지배하는 특징자체는 변하지 않는다. => Stationary\n",
    "\n",
    "#### Markov Model\n",
    "  \n",
    "  \n",
    "\n",
    "\n"
   ]
  }
 ],
 "metadata": {
  "kernelspec": {
   "display_name": "Python 3 (ipykernel)",
   "language": "python",
   "name": "python3"
  },
  "language_info": {
   "codemirror_mode": {
    "name": "ipython",
    "version": 3
   },
   "file_extension": ".py",
   "mimetype": "text/x-python",
   "name": "python",
   "nbconvert_exporter": "python",
   "pygments_lexer": "ipython3",
   "version": "3.8.12"
  }
 },
 "nbformat": 4,
 "nbformat_minor": 5
}
