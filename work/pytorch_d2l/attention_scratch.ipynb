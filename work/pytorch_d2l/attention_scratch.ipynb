{
 "cells": [
  {
   "cell_type": "code",
   "execution_count": 4,
   "id": "14de2d6a",
   "metadata": {},
   "outputs": [
    {
     "data": {
      "text/plain": [
       "(tensor([ 0.0992, -0.0895,  0.0241, -0.2449,  0.1287,  0.0894,  0.0486,  0.0761,\n",
       "          0.0701,  0.0124, -0.1800, -0.1079, -0.0539, -0.0252, -0.1061, -0.0846,\n",
       "         -0.0260,  0.1431,  0.0693, -0.1427, -0.0040,  0.1642,  0.0869, -0.0613,\n",
       "          0.0813, -0.1529,  0.0817, -0.2199, -0.1040, -0.0866, -0.0018,  0.2786,\n",
       "         -0.0442, -0.0912,  0.0395,  0.0166,  0.0993,  0.0635,  0.0517, -0.0010,\n",
       "          0.0162,  0.0767,  0.0079, -0.0211,  0.0065,  0.0524, -0.0020, -0.0737,\n",
       "          0.0983, -0.0564]),\n",
       " tensor([1.0079, 0.6292, 0.8489, 0.3751, 1.0733, 0.9866, 0.8995, 0.9579, 0.9449,\n",
       "         0.8250, 0.4744, 0.5962, 0.6952, 0.7502, 0.5995, 0.6382, 0.7486, 1.1056,\n",
       "         0.9433, 0.5358, 0.7921, 1.1539, 0.9812, 0.6812, 0.9690, 0.5188, 0.9699,\n",
       "         0.4121, 0.6032, 0.6344, 0.7964, 1.4278, 0.7135, 0.6261, 0.8806, 0.8334,\n",
       "         1.0081, 0.9308, 0.9060, 0.7981, 0.8327, 0.9590, 0.8159, 0.7583, 0.8131,\n",
       "         0.9074, 0.7960, 0.6581, 1.0060, 0.6905]))"
      ]
     },
     "execution_count": 4,
     "metadata": {},
     "output_type": "execute_result"
    }
   ],
   "source": [
    "import torch \n",
    "from torch import nn\n",
    "\n",
    "def f(X):\n",
    "    return 2 * torch.sin(X) + 0.8 + X**2\n",
    "\n",
    "n_train = 50\n",
    "keys = torch.normal(0, 0.1,(50,))\n",
    "values = f(keys)\n",
    "keys, values"
   ]
  }
 ],
 "metadata": {
  "kernelspec": {
   "display_name": "Python 3 (ipykernel)",
   "language": "python",
   "name": "python3"
  },
  "language_info": {
   "codemirror_mode": {
    "name": "ipython",
    "version": 3
   },
   "file_extension": ".py",
   "mimetype": "text/x-python",
   "name": "python",
   "nbconvert_exporter": "python",
   "pygments_lexer": "ipython3",
   "version": "3.8.12"
  }
 },
 "nbformat": 4,
 "nbformat_minor": 5
}
