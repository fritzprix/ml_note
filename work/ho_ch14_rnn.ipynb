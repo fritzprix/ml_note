{
 "cells": [
  {
   "cell_type": "markdown",
   "metadata": {},
   "source": [
    "# Chapter 14. Recurrent Neural Network\n",
    "  * prediction on data sequence of time series\n",
    "\n",
    "## Recurrent Neurons\n",
    "  * Unlike neurons in feed forward network, ouput can be fed into itself\n",
    "  * not only backpropagation, but also **unrolling** is required during training\n",
    "  * Memory Cells\n",
    "    * output from itself of previous time step is called **cell's state**\n",
    "\n",
    "## Input & Output\n",
    "  * Sequence to Sequence \n",
    "    * e.g. for given time serise input, time series with future prediction are returned \n",
    "  * Sequence to Vector (e.g. sentiment analysis) \n",
    "  * Vector to Sequence (e.g. captioning image)\n",
    "  * Encoder - Decoder (e.g. translator) (Seq2Vec - Vec2Seq)\n"
   ]
  },
  {
   "cell_type": "markdown",
   "metadata": {},
   "source": [
    "## Recurrent Neuron model"
   ]
  },
  {
   "cell_type": "code",
   "execution_count": 49,
   "metadata": {},
   "outputs": [
    {
     "name": "stdout",
     "output_type": "stream",
     "text": [
      "[array([[-0.42141908, -0.809767  , -0.14516923,  0.73781574, -0.06028287],\n",
      "       [ 0.30095518, -0.97897786,  0.07166494,  0.99962914, -0.32041547],\n",
      "       [ 0.7896704 , -0.99785525,  0.28193057,  0.9999995 , -0.5397935 ],\n",
      "       [ 0.99673885,  0.5778276 ,  0.67889106,  0.99997693,  0.8691432 ]],\n",
      "      dtype=float32), array([[ 0.98770326, -0.9142149 ,  0.46105415,  1.        , -0.6597372 ],\n",
      "       [-0.7081102 ,  0.8166296 , -0.24081503,  0.7314205 , -0.28680807],\n",
      "       [ 0.6079217 ,  0.08461839,  0.3418136 ,  0.9999945 , -0.7518167 ],\n",
      "       [ 0.43567273,  0.36083198,  0.8883119 ,  0.9894406 ,  0.1835967 ]],\n",
      "      dtype=float32)]\n"
     ]
    }
   ],
   "source": [
    "# Basic Model of Recurrent Neuron\n",
    "import tensorflow as tf\n",
    "import numpy as np\n",
    "\n",
    "tf.reset_default_graph()\n",
    "\n",
    "n_inputs = 3\n",
    "n_neurons = 5\n",
    "\n",
    "X0 = tf.placeholder(tf.float32, [None, n_inputs])\n",
    "X1 = tf.placeholder(tf.float32, [None, n_inputs])\n",
    "\n",
    "Wx = tf.Variable(tf.random_normal(shape=[n_inputs, n_neurons], dtype=tf.float32))\n",
    "Wy = tf.Variable(tf.random_normal(shape=[n_neurons, n_neurons], dtype=tf.float32))\n",
    "b = tf.Variable(tf.zeros([1, n_neurons], dtype=tf.float32))\n",
    "\n",
    "Y0 = tf.tanh(tf.matmul(X0, Wx) + b)\n",
    "Y1 = tf.tanh(tf.matmul(Y0, Wy) + tf.matmul(X0, Wx) + b) \n",
    "'''\n",
    "Y2 \n",
    "Y3\n",
    ".\n",
    ".\n",
    "\n",
    "''' \n",
    "\n",
    "\n",
    "\n"
   ]
  },
  {
   "cell_type": "markdown",
   "metadata": {},
   "source": [
    "## RNN network in simplest form"
   ]
  },
  {
   "cell_type": "code",
   "execution_count": 50,
   "metadata": {},
   "outputs": [
    {
     "name": "stdout",
     "output_type": "stream",
     "text": [
      "[array([[-0.7027918 ,  0.6674094 ,  0.00498064, -0.43444335,  0.6118566 ],\n",
      "       [-0.99949366,  0.917452  ,  0.98799443, -0.9984121 ,  0.97833204],\n",
      "       [-0.9999993 ,  0.98158765,  0.9999263 , -0.9999968 ,  0.9990042 ],\n",
      "       [-0.9997933 ,  0.9314043 ,  0.99996305, -0.99975854,  0.13153642]],\n",
      "      dtype=float32), array([[-0.99999994,  0.7348813 ,  0.9999998 , -1.        ,  0.9976633 ],\n",
      "       [ 0.31974855, -0.92133725,  0.25694522, -0.1987123 , -0.8016095 ],\n",
      "       [-0.9999525 , -0.7069174 ,  0.99995714, -0.99998647,  0.84029955],\n",
      "       [-0.9760914 , -0.9519193 ,  0.99266493, -0.9831109 ,  0.13102499]],\n",
      "      dtype=float32)]\n"
     ]
    }
   ],
   "source": [
    "\n",
    "import tensorflow as tf\n",
    "import numpy as np\n",
    "\n",
    "tf.reset_default_graph()\n",
    "\n",
    "n_inputs = 3\n",
    "n_neurons = 5\n",
    "X0 = tf.placeholder(tf.float32, [None, n_inputs])\n",
    "X1 = tf.placeholder(tf.float32, [None, n_inputs])\n",
    "\n",
    "basic_cell = tf.contrib.rnn.BasicRNNCell(num_units=n_neurons)\n",
    "output_seqs, states = tf.contrib.rnn.static_rnn(basic_cell, [X0, X1], dtype=tf.float32)\n",
    "X0_batch = np.array([[0,1,2],[3,4,5],[6,7,8],[9,0,1]])\n",
    "X1_batch = np.array([[9,8,7],[0,0,0],[6,5,4],[3,2,1]])\n",
    "\n",
    "Y0, Y1 = output_seqs\n",
    "init = tf.global_variables_initializer()\n",
    "\n",
    "with tf.Session() as sess:\n",
    "    sess.run(init)\n",
    "    print(sess.run([Y0,Y1],feed_dict={X0:X0_batch, X1:X1_batch}))\n",
    "    "
   ]
  },
  {
   "cell_type": "markdown",
   "metadata": {},
   "source": [
    "## Static Unrolling RNN\n",
    "- **static_rnn()** -> build unrolled RNN network by chaining RNN cells\n",
    "- each instance of input data is a sequence..\n",
    "  * thus, rank of input is 3 (3D) => (batch, steps, inputs)\n",
    "  * but data should be fed list of steps\n",
    "    1. transpose(X, perm=[1,0,2]) -> (steps, batch, inputs)\n",
    "    2. unstack(result from 1) -> (?, inputs)\n",
    "    * conversion is complex !!!\n",
    "- static unrolling is memory consuming \n",
    "  * each optimization iteration, all tensor values should be stored (because it's recurrent neuron!!)"
   ]
  },
  {
   "cell_type": "code",
   "execution_count": 47,
   "metadata": {},
   "outputs": [
    {
     "name": "stdout",
     "output_type": "stream",
     "text": [
      "(10, ?, 2)\n",
      "(?, 2)\n",
      "[[ 0  1]\n",
      " [ 1  2]\n",
      " [ 2  3]\n",
      " [ 3  4]\n",
      " [ 4  5]\n",
      " [ 5  6]\n",
      " [ 6  7]\n",
      " [ 7  8]\n",
      " [ 8  9]\n",
      " [ 9 10]]\n",
      "Input\n",
      "[[[ 0.  1.]\n",
      "  [ 1.  2.]\n",
      "  [ 2.  3.]\n",
      "  [ 3.  4.]\n",
      "  [ 4.  5.]\n",
      "  [ 5.  6.]\n",
      "  [ 6.  7.]\n",
      "  [ 7.  8.]\n",
      "  [ 8.  9.]\n",
      "  [ 9. 10.]]]\n",
      "After Transpose\n",
      "<class 'numpy.ndarray'>\n",
      "[[0. 1.]]\n",
      "[[1. 2.]]\n",
      "[[2. 3.]]\n",
      "[[3. 4.]]\n",
      "[[4. 5.]]\n",
      "[[5. 6.]]\n",
      "[[6. 7.]]\n",
      "[[7. 8.]]\n",
      "[[8. 9.]]\n",
      "[[ 9. 10.]]\n",
      "After Unstack\n",
      "<class 'list'>\n",
      "[[0. 1.]]\n",
      "[[1. 2.]]\n",
      "[[2. 3.]]\n",
      "[[3. 4.]]\n",
      "[[4. 5.]]\n",
      "[[5. 6.]]\n",
      "[[6. 7.]]\n",
      "[[7. 8.]]\n",
      "[[8. 9.]]\n",
      "[[ 9. 10.]]\n",
      "Final Data\n",
      "[[[-0.39882165  0.3542116  -0.07195529 -0.36859003  0.07567247\n",
      "   -0.02040198  0.46789715  0.2543415   0.23556472 -0.18304275]\n",
      "  [-0.4633027   0.3413062  -0.7954224  -0.53963345  0.18950076\n",
      "    0.09189894  0.5788722   0.37592298  0.41902596 -0.14458562]\n",
      "  [-0.7979515   0.3925388  -0.94819856 -0.7438859   0.53125167\n",
      "    0.37850165  0.7288936   0.796322    0.78594965 -0.06165339]\n",
      "  [-0.9072312  -0.03132254 -0.9926383  -0.7012744   0.7915995\n",
      "    0.17497925  0.8695304   0.90185195  0.8706123  -0.20657553]\n",
      "  [-0.96197844 -0.10418229 -0.99741095 -0.8884284   0.8349699\n",
      "    0.1993161   0.93405914  0.98376095  0.9332569  -0.20935069]\n",
      "  [-0.9808995  -0.14348488 -0.999228   -0.94860786  0.90129524\n",
      "    0.23349333  0.95931906  0.9958651   0.9628021  -0.1406529 ]\n",
      "  [-0.99200195 -0.21675606 -0.9997681  -0.9784338   0.9472779\n",
      "    0.23059362  0.9735975   0.99910545  0.97735626 -0.05625112]\n",
      "  [-0.99672633 -0.26710322 -0.999925   -0.99161166  0.97206074\n",
      "    0.21845578  0.982881    0.9998165   0.98605883  0.0524943 ]\n",
      "  [-0.9986684  -0.30891517 -0.9999758  -0.9967993   0.9857981\n",
      "    0.19629823  0.98859555  0.99996173  0.9911795   0.18027587]\n",
      "  [-0.9994625  -0.3428232  -0.9999922  -0.9987949   0.992942\n",
      "    0.16662033  0.9923156   0.999992    0.99434006  0.314655  ]]]\n"
     ]
    }
   ],
   "source": [
    "import tensorflow as tf\n",
    "import numpy as np\n",
    "\n",
    "tf.reset_default_graph()\n",
    "\n",
    "n_steps = 10\n",
    "n_neurons = 10\n",
    "n_inputs = 2\n",
    "n_batch = 10\n",
    "\n",
    "X = tf.placeholder(tf.float32, [None, n_steps, n_inputs])\n",
    "X_seqs = tf.transpose(X, perm=[1,0,2])\n",
    "print(X_seqs.get_shape())\n",
    "X_seqs_ustk = tf.unstack(X_seqs)\n",
    "print(X_seqs_ustk[0].get_shape())\n",
    "\n",
    "basic_cell = tf.contrib.rnn.BasicRNNCell(num_units=n_neurons)\n",
    "output_seqs, states = tf.contrib.rnn.static_rnn(basic_cell, X_seqs_ustk, dtype=tf.float32)\n",
    "\n",
    "outputs = tf.transpose(tf.stack(output_seqs), perm=[1,0,2])\n",
    "x_batch = np.array([[[i for i in range(o, o + n_inputs)] for o in range(n_steps)] for _ in range(n_batch)])\n",
    "print(x_batch[0])\n",
    "init = tf.global_variables_initializer()\n",
    "with tf.Session() as sess:\n",
    "    sess.run(init)\n",
    "    print('Input')\n",
    "    print(sess.run(X, feed_dict={X: [x_batch[0]]}))\n",
    "    print('After Transpose')\n",
    "    seqs = sess.run(X_seqs, feed_dict={X: [x_batch[0]]})\n",
    "    print(type(seqs))\n",
    "    for l in seqs:\n",
    "        print(l)\n",
    "    print('After Unstack')\n",
    "    seqs_ustk = sess.run(X_seqs_ustk, feed_dict={X: [x_batch[0]]})\n",
    "    print(type(seqs_ustk))\n",
    "    for l in seqs_ustk:\n",
    "        print(l)\n",
    "    print('Final Data')\n",
    "    print(sess.run(outputs, feed_dict={X: [x_batch[0]]}))\n",
    "\n"
   ]
  },
  {
   "cell_type": "markdown",
   "metadata": {},
   "source": [
    "## Dynamic Unrolling\n",
    " * support swapping memory contents CPU <-> GPU\n",
    "   * prevent OOM\n",
    "   * no need for tensor conversion \n"
   ]
  },
  {
   "cell_type": "code",
   "execution_count": 48,
   "metadata": {},
   "outputs": [
    {
     "name": "stdout",
     "output_type": "stream",
     "text": [
      "(1, 10, 10)\n",
      "(1, 10)\n"
     ]
    }
   ],
   "source": [
    "import tensorflow as tf\n",
    "tf.reset_default_graph()\n",
    "\n",
    "n_steps = 10\n",
    "n_neurons = 10\n",
    "n_inputs = 20\n",
    "n_batch = 1\n",
    "\n",
    "X = tf.placeholder(tf.float32, [None, n_steps, n_inputs])\n",
    "x_batch = np.array([[[i for i in range(o, o + n_inputs)] for o in range(n_steps)] for _ in range(n_batch)])\n",
    "\n",
    "basic_cell = tf.contrib.rnn.BasicRNNCell(n_neurons)\n",
    "outputs, states = tf.nn.dynamic_rnn(basic_cell, X, dtype=tf.float32)\n",
    "init = tf.global_variables_initializer()\n",
    "\n",
    "with tf.Session() as sess:\n",
    "    sess.run(init)\n",
    "    print(sess.run(outputs, feed_dict={X:x_batch}).shape)\n",
    "    print(sess.run(states, feed_dict={X:x_batch}).shape)\n",
    "    "
   ]
  }
 ],
 "metadata": {
  "kernelspec": {
   "display_name": "Python 3",
   "language": "python",
   "name": "python3"
  },
  "language_info": {
   "codemirror_mode": {
    "name": "ipython",
    "version": 3
   },
   "file_extension": ".py",
   "mimetype": "text/x-python",
   "name": "python",
   "nbconvert_exporter": "python",
   "pygments_lexer": "ipython3",
   "version": "3.6.9"
  }
 },
 "nbformat": 4,
 "nbformat_minor": 4
}
