{
 "cells": [
  {
   "cell_type": "code",
   "execution_count": 1,
   "metadata": {},
   "outputs": [
    {
     "name": "stdout",
     "output_type": "stream",
     "text": [
      "['.ipynb_checkpoints', 'mnist_dnn_20201223042031_b50_e100', 'mnist_dnn_20201223042249_b50_e100', 'mnist_dnn_20201223041829_b50_e100', 'mnist_dnn_20201223042101_b50_e100', 'mnist_dnn_20201223042348_b50_e500', 'mnist_dnn_20201223042535_b50_e500', 'mnist_dnn_20201223042630_b50_e500']\n",
      "['events.out.tfevents.1608697231.65b4e56cf6a5']\n",
      "['events.out.tfevents.1608697369.65b4e56cf6a5']\n",
      "['events.out.tfevents.1608697109.65b4e56cf6a5']\n",
      "['events.out.tfevents.1608697261.65b4e56cf6a5']\n",
      "['events.out.tfevents.1608697428.65b4e56cf6a5']\n",
      "['events.out.tfevents.1608697535.65b4e56cf6a5']\n",
      "['events.out.tfevents.1608697590.65b4e56cf6a5']\n"
     ]
    }
   ],
   "source": [
    "import os\n",
    "import sys\n",
    "\n",
    "log_dir = \"/home/tf_logs\"\n",
    "\n",
    "def rm_files(p):\n",
    "    files = os.listdir(p)\n",
    "    print(files)\n",
    "    for c in files:\n",
    "        abs_path = \"{}/{}\".format(p, c)\n",
    "        try:\n",
    "            os.remove(abs_path)\n",
    "        except:\n",
    "            try:\n",
    "                os.rmdir(abs_path)\n",
    "            except:\n",
    "                rm_files(abs_path)\n",
    "            \n",
    "            \n",
    "\n",
    "rm_files(log_dir)"
   ]
  }
 ],
 "metadata": {
  "kernelspec": {
   "display_name": "Python 2",
   "language": "python",
   "name": "python2"
  },
  "language_info": {
   "codemirror_mode": {
    "name": "ipython",
    "version": 2
   },
   "file_extension": ".py",
   "mimetype": "text/x-python",
   "name": "python",
   "nbconvert_exporter": "python",
   "pygments_lexer": "ipython2",
   "version": "2.7.18"
  }
 },
 "nbformat": 4,
 "nbformat_minor": 2
}
