{
 "cells": [
  {
   "cell_type": "code",
   "execution_count": 1,
   "metadata": {},
   "outputs": [
    {
     "name": "stdout",
     "output_type": "stream",
     "text": [
      "['rnn_stock_v1_20210111_234524_10_40', '.ipynb_checkpoints', 'rnn_stock_v1_20210111_185834_10_40', 'rnn_stock_v1.ckpt.data-00000-of-00001', 'rnn_stock_v1_20210112_002712_20_40', 'rnn_stock_v1_20210112_001229_10_40', 'rnn_stock_v1_20210111_183701_10_40', 'rnn_stock_v1_20210111_184017_10_40', 'checkpoint', 'rnn_stock_v1_20210111_185913_10_40', 'rnn_stock_v1_20210111_185852_10_40', 'rnn_stock_v1_20210112_002313_10_40', 'rnn_stock_v1_20210112_002328_5_40', 'rnn_stock_v1_20210111_183714_10_40', 'rnn_stock_v1.ckpt.meta', 'rnn_stock_v1.ckpt.index', 'rnn_stock_v1_20210111_183849_10_40', 'rnn_stock_v1_20210111_183927_10_40']\n",
      "['events.out.tfevents.1610408724.4c2ffbc9fbef']\n",
      "['events.out.tfevents.1610391514.4c2ffbc9fbef']\n",
      "['events.out.tfevents.1610411232.4c2ffbc9fbef']\n",
      "['events.out.tfevents.1610410349.4c2ffbc9fbef']\n",
      "['events.out.tfevents.1610390221.4c2ffbc9fbef']\n",
      "['events.out.tfevents.1610390417.4c2ffbc9fbef']\n",
      "['events.out.tfevents.1610391553.4c2ffbc9fbef']\n",
      "['events.out.tfevents.1610391532.4c2ffbc9fbef']\n",
      "['events.out.tfevents.1610410993.4c2ffbc9fbef']\n",
      "['events.out.tfevents.1610411008.4c2ffbc9fbef']\n",
      "['events.out.tfevents.1610390234.4c2ffbc9fbef']\n",
      "['events.out.tfevents.1610390329.4c2ffbc9fbef']\n",
      "['events.out.tfevents.1610390367.4c2ffbc9fbef']\n"
     ]
    }
   ],
   "source": [
    "import os\n",
    "import sys\n",
    "\n",
    "log_dir = \"/home/tf_logs\"\n",
    "\n",
    "def rm_files(p):\n",
    "    files = os.listdir(p)\n",
    "    print(files)\n",
    "    for c in files:\n",
    "        abs_path = \"{}/{}\".format(p, c)\n",
    "        try:\n",
    "            os.remove(abs_path)\n",
    "        except:\n",
    "            try:\n",
    "                os.rmdir(abs_path)\n",
    "            except:\n",
    "                rm_files(abs_path)\n",
    "            \n",
    "            \n",
    "\n",
    "rm_files(log_dir)"
   ]
  }
 ],
 "metadata": {
  "kernelspec": {
   "display_name": "Python 3",
   "language": "python",
   "name": "python3"
  },
  "language_info": {
   "codemirror_mode": {
    "name": "ipython",
    "version": 3
   },
   "file_extension": ".py",
   "mimetype": "text/x-python",
   "name": "python",
   "nbconvert_exporter": "python",
   "pygments_lexer": "ipython3",
   "version": "3.6.9"
  }
 },
 "nbformat": 4,
 "nbformat_minor": 2
}
