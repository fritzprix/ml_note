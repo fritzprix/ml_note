{
 "cells": [
  {
   "cell_type": "markdown",
   "metadata": {},
   "source": [
    "## Create first graph"
   ]
  },
  {
   "cell_type": "code",
   "execution_count": 1,
   "metadata": {},
   "outputs": [
    {
     "name": "stdout",
     "output_type": "stream",
     "text": [
      "Tensor(\"add_1:0\", shape=(), dtype=int32)\n",
      "42\n"
     ]
    }
   ],
   "source": [
    "import tensorflow as tf\n",
    "\n",
    "x = tf.Variable(3, name=\"x\")\n",
    "y = tf.Variable(4, name=\"y\")\n",
    "f = x * x * y + y + 2\n",
    "print(f)\n",
    "\n",
    "\n",
    "sess = tf.Session()\n",
    "sess.run(x.initializer)\n",
    "sess.run(y.initializer)\n",
    "result = sess.run(f)\n",
    "print(result)\n",
    "sess.close()"
   ]
  },
  {
   "cell_type": "code",
   "execution_count": 2,
   "metadata": {},
   "outputs": [
    {
     "name": "stdout",
     "output_type": "stream",
     "text": [
      "42\n"
     ]
    }
   ],
   "source": [
    "with tf.Session() as sess:\n",
    "    x.initializer.run()\n",
    "    y.initializer.run()\n",
    "    result = f.eval()\n",
    "print(result)"
   ]
  },
  {
   "cell_type": "code",
   "execution_count": 3,
   "metadata": {},
   "outputs": [
    {
     "name": "stdout",
     "output_type": "stream",
     "text": [
      "42\n"
     ]
    }
   ],
   "source": [
    "init = tf.global_variables_initializer()\n",
    "\n",
    "with tf.Session() as sess:\n",
    "    init.run()\n",
    "    result = f.eval()\n",
    "print(result)"
   ]
  },
  {
   "cell_type": "markdown",
   "metadata": {},
   "source": [
    "## Managing Graphs"
   ]
  },
  {
   "cell_type": "code",
   "execution_count": 4,
   "metadata": {},
   "outputs": [
    {
     "name": "stdout",
     "output_type": "stream",
     "text": [
      "Variable:0\n"
     ]
    }
   ],
   "source": [
    "x1 = tf.Variable(1)\n",
    "x1.graph is tf.get_default_graph()\n",
    "print(x1.name)\n"
   ]
  },
  {
   "cell_type": "code",
   "execution_count": 5,
   "metadata": {},
   "outputs": [],
   "source": [
    "graph = tf.Graph()\n",
    "with graph.as_default():\n",
    "    x2 = tf.Variable(2)\n",
    "x2.graph is graph   # True\n",
    "x2.graph is tf.get_default_graph()  # False\n",
    "tf.reset_default_graph()"
   ]
  },
  {
   "cell_type": "markdown",
   "metadata": {},
   "source": [
    "## Linear Regression with TF"
   ]
  },
  {
   "cell_type": "code",
   "execution_count": 31,
   "metadata": {},
   "outputs": [
    {
     "name": "stdout",
     "output_type": "stream",
     "text": [
      "[[-3.6894890e+01]\n",
      " [ 4.3661433e-01]\n",
      " [ 9.4453208e-03]\n",
      " [-1.0704148e-01]\n",
      " [ 6.4345831e-01]\n",
      " [-3.9632569e-06]\n",
      " [-3.7880042e-03]\n",
      " [-4.2093179e-01]\n",
      " [-4.3400639e-01]]\n"
     ]
    }
   ],
   "source": [
    "import numpy as np\n",
    "from sklearn.datasets import  fetch_california_housing\n",
    "housing = fetch_california_housing()\n",
    "m, n = housing.data.shape\n",
    "housing_data_plus_bias = np.c_[np.ones((m,1)), housing.data]\n",
    "X = tf.constant(housing_data_plus_bias, dtype=tf.float32, name=\"X\")\n",
    "y = tf.constant(housing.target.reshape(-1,1), dtype=tf.float32, name=\"y\")\n",
    "XT = tf.transpose(X)\n",
    "theta = tf.matmul(tf.matmul(tf.matrix_inverse(tf.matmul(XT, X)), XT),y)\n",
    "\n",
    "with tf.Session() as sess:\n",
    "    theta_value = theta.eval()\n",
    "print(theta_value)"
   ]
  },
  {
   "cell_type": "markdown",
   "metadata": {},
   "source": [
    "## Implementing Gradient Descent\n",
    "### Autodiff feature in Tensorflow\n",
    "* Tensorflow keep records of various operation performed within the context\n",
    "* with provided **gradient** function calculates gradient efficiently by using these records"
   ]
  },
  {
   "cell_type": "code",
   "execution_count": 3,
   "metadata": {},
   "outputs": [],
   "source": [
    "import tensorflow as tf\n",
    "\n",
    "tf.reset_default_graph()\n",
    "\n",
    "def relu(X):\n",
    "    with tf.name_scope(\"relu\"):\n",
    "        w_shape = (int(X.shape[1]),1)\n",
    "        w = tf.Variable(tf.random_normal(w_shape), name=\"weight\")\n",
    "        b = tf.Variable(0.0, name=\"bias\")\n",
    "        z = tf.add(tf.matmul(X,w), b, name=\"z\")\n",
    "        return tf.maximum(z, 0., name=\"relu\")\n",
    "    \n",
    "    \n",
    "n_features = 3\n",
    "    \n",
    "X = tf.placeholder(tf.float32, shape=(None, n_features), name=\"X\")\n",
    "relus = [relu(X) for i in range(5)]\n",
    "output = tf.add_n(relus, name=\"output\")\n",
    "init = tf.global_variables_initializer()\n",
    "with tf.Session() as sess:\n",
    "    sess.run(init)\n",
    "    sess.run(output, feed_dict={X:[[1,2,3]]})\n",
    "    file_writer = tf.summary.FileWriter('/home/tf_logs/relues', graph=tf.get_default_graph())\n",
    "\n",
    "\n",
    "    "
   ]
  },
  {
   "cell_type": "code",
   "execution_count": 1,
   "metadata": {},
   "outputs": [
    {
     "name": "stdout",
     "output_type": "stream",
     "text": [
      "False\n"
     ]
    }
   ],
   "source": [
    "import tensorflow as tf\n",
    "\n",
    "\n",
    "tf.reset_default_graph()\n",
    "\n",
    "def fuck(X):\n",
    "    w_shape = (int(X.shape[1]),1)\n",
    "    w = tf.Variable(tf.random_normal(w_shape), name=\"weight\")    \n",
    "    b = tf.Variable(1.0, name=\"bias\")\n",
    "    Y = tf.add(tf.matmul(X,w), b, name=\"Y\")\n",
    "    return tf.maximum(Y,0., name=\"fuck\")\n",
    "\n",
    "n_features = 10\n",
    "\n",
    "X = tf.placeholder(tf.float32, name=\"X\", shape=(None, n_features))\n",
    "abc = [fuck(X) in range(0,5)]\n",
    "out = tf.accumulate_n(abc, name=\"output\")\n",
    "\n",
    "init = tf.global_variables_initializer()\n",
    "\n",
    "\n",
    "with tf.Session() as sess:\n",
    "    sess.run(init)\n",
    "    print(sess.run(out, feed_dict={X:[range(0,10)]}))\n",
    "#     saver.save(sess, '/home/tf_logs/simple.ckpt')\n",
    "    file_writer = tf.summary.FileWriter('/home/tf_logs/simple', graph=tf.get_default_graph())\n"
   ]
  },
  {
   "cell_type": "code",
   "execution_count": 7,
   "metadata": {},
   "outputs": [],
   "source": [
    "import tensorflow as tf\n",
    "\n",
    "tf.reset_default_graph()\n",
    "\n",
    "def relu(X):\n",
    "    with tf.name_scope(\"relu\"):\n",
    "        tf.variable_scope(\"relu\")\n",
    "        threshold = tf.get_variable(\"threshold\", shape=(), initializer=tf.constant_initializer(0.0))\n",
    "        w_shape = (int(X.shape[1]),1)\n",
    "        w = tf.Variable(tf.random_normal(w_shape), name=\"weight\")\n",
    "        b = tf.Variable(0.0, name=\"bias\")\n",
    "        z = tf.add(tf.matmul(X,w), b, name=\"z\")\n",
    "        return tf.maximum(z, threshold, name=\"relu\")\n",
    "    \n",
    "    \n",
    "n_features = 3\n",
    "    \n",
    "X = tf.placeholder(tf.float32, shape=(None, n_features), name=\"X\")\n",
    "with tf.variable_scope(\"relu\", reuse=tf.AUTO_REUSE) as scope:\n",
    "    relus = [relu(X) for i in range(5)]\n",
    "output = tf.add_n(relus, name=\"output\")\n",
    "init = tf.global_variables_initializer()\n",
    "with tf.Session() as sess:\n",
    "    sess.run(init)\n",
    "    sess.run(output, feed_dict={X:[[1,2,3]]})\n",
    "    file_writer = tf.summary.FileWriter('/home/tf_logs/relues_varable', graph=tf.get_default_graph())\n",
    "\n",
    "\n",
    "    "
   ]
  },
  {
   "cell_type": "markdown",
   "metadata": {},
   "source": [
    "## Exercise\n",
    "1. Build LogisticRegression (mini-batch)\n"
   ]
  },
  {
   "cell_type": "code",
   "execution_count": 5,
   "metadata": {},
   "outputs": [
    {
     "name": "stdout",
     "output_type": "stream",
     "text": [
      "[[ 1.90266608  0.14876292  1.        ]\n",
      " [ 0.35390759  0.93067676  0.        ]\n",
      " [ 0.6231502   0.76897647  0.        ]\n",
      " ...\n",
      " [ 1.95778533  0.18460747  1.        ]\n",
      " [-0.36451261  0.92055825  0.        ]\n",
      " [-0.16709435  0.97273829  0.        ]]\n"
     ]
    }
   ],
   "source": [
    "import tensorflow as tf\n",
    "import numpy as np\n",
    "from sklearn.datasets import make_moons\n",
    "\n",
    "tf.reset_default_graph()\n",
    "\n",
    "n_samples = 10000\n",
    "\n",
    "\n",
    "moons = make_moons(n_samples=n_samples,noise=0.02)\n",
    "moons = np.c_[moons[0], moons[1]]\n",
    "print(moons)"
   ]
  },
  {
   "cell_type": "code",
   "execution_count": 6,
   "metadata": {},
   "outputs": [
    {
     "name": "stderr",
     "output_type": "stream",
     "text": [
      "/usr/local/lib/python2.7/dist-packages/sklearn/linear_model/logistic.py:433: FutureWarning: Default solver will be changed to 'lbfgs' in 0.22. Specify a solver to silence this warning.\n",
      "  FutureWarning)\n",
      "/usr/local/lib/python2.7/dist-packages/sklearn/utils/validation.py:761: DataConversionWarning: A column-vector y was passed when a 1d array was expected. Please change the shape of y to (n_samples, ), for example using ravel().\n",
      "  y = column_or_1d(y, warn=True)\n"
     ]
    },
    {
     "data": {
      "image/png": "[encoded data removed]",
      "text/plain": [
       "<Figure size 432x288 with 1 Axes>"
      ]
     },
     "metadata": {
      "needs_background": "light"
     },
     "output_type": "display_data"
    }
   ],
   "source": [
    "from sklearn.linear_model import LogisticRegression\n",
    "from sklearn.preprocessing import PolynomialFeatures\n",
    "from sklearn.pipeline import Pipeline\n",
    "from sklearn.decomposition import PCA\n",
    "from sklearn.metrics import accuracy_score\n",
    "import matplotlib.pyplot as plt\n",
    "\n",
    "log_reg_sk = Pipeline((\n",
    "    (\"pca\", PolynomialFeatures(degree=4)),\n",
    "    (\"reg\", LogisticRegression())\n",
    "))\n",
    "\n",
    "log_reg_sk.fit(moons[:,:-1], moons[:,-1:])\n",
    "pred = log_reg_sk.predict(moons[:,:-1])\n",
    "\n",
    "plt.scatter(moons[:,0], moons[:,1], c=moons[:,2])\n",
    "plt.scatter(moons[:,0], moons[:,1], c=pred)\n",
    "plt.show()\n",
    "\n"
   ]
  },
  {
   "cell_type": "code",
   "execution_count": 25,
   "metadata": {},
   "outputs": [],
   "source": [
    "# Logistic regression Tensorflow version\n",
    "\n",
    "import collections\n",
    "import tensorflow as tf\n",
    "import numpy as np\n",
    "from datetime import datetime\n",
    "\n",
    "size = len(moons)\n",
    "epoch = 50\n",
    "batch_size = 10\n",
    "batches = np.ceil(size / batch_size)\n",
    "\n",
    "class RandomBatch():\n",
    "    def __init__(self, data, size):\n",
    "        self.data = data\n",
    "        self.b_sz = size\n",
    "        self.iter_cnt = 0\n",
    "        self.v = range(0, len(data))\n",
    "        \n",
    "    def __iter__(self):\n",
    "        self.iter_cnt = 0\n",
    "        return self\n",
    "        \n",
    "    def next(self):\n",
    "        if self.iter_cnt < (len(self.v) / self.b_sz) :\n",
    "            self.iter_cnt = self.iter_cnt + 1\n",
    "            return self.data[np.array(np.random.choice(self.v, self.b_sz, replace=False))]\n",
    "        else:\n",
    "            raise StopIteration\n",
    "\n",
    "random_batch = RandomBatch(moons, batch_size)\n",
    "\n",
    "X = tf.placeholder(name=\"X\", shape=(None, 2), dtype=tf.float32)\n",
    "Y = tf.placeholder(name=\"Y\", shape=(None, 1), dtype=tf.float32)\n",
    "w = tf.Variable(np.ones(2).reshape(2,1) ,name=\"weight\", dtype=tf.float32)\n",
    "b = tf.constant(0.0, name=\"bias\")\n",
    "\n",
    "def logistic_regression(x):\n",
    "    return tf.sigmoid(tf.add(tf.matmul(x, w), b))\n",
    "\n",
    "y_prob = logistic_regression(X)\n",
    "opt = tf.train.GradientDescentOptimizer(learning_rate=0.01)\n",
    "y_cls = tf.cast(y_prob > 0.5, dtype=tf.float32)\n",
    "loss = tf.losses.log_loss(y_prob, Y)\n",
    "train_op = opt.minimize(loss)\n",
    "\n",
    "\n",
    "init = tf.global_variables_initializer()\n",
    "# create saver\n",
    "saver = tf.train.Saver()\n",
    "\n",
    "# create file_writer \n",
    "file_writer = tf.summary.FileWriter('/home/tf_logs/epoch_{}_batch_{}'.format(epoch, batch_size), graph=tf.get_default_graph())\n",
    "\n",
    "with tf.Session() as sess:\n",
    "    sess.run(init)\n",
    "    for i in range(0, epoch):\n",
    "        for sample in iter(random_batch):\n",
    "            sess.run(train_op, feed_dict={X: sample[:,:-1], Y: sample[:,-1:]})\n",
    "        loss_str = loss.eval(feed_dict={X: moons[:,:-1], Y: moons[:,-1:]})\n",
    "        summary = tf.Summary()\n",
    "        summary.value.add(tag=\"loss\", simple_value=loss_str)\n",
    "        file_writer.add_summary(summary, i)\n",
    "                    \n",
    "    saver.save(sess, '/home/tf_logs/logistic_regression.ckpt')\n",
    "    final_pred = sess.run(y_cls, feed_dict={X:moons[:,:-1]})\n",
    "    \n",
    "file_writer.close()"
   ]
  },
  {
   "cell_type": "code",
   "execution_count": 21,
   "metadata": {},
   "outputs": [
    {
     "data": {
      "image/png": "[encoded data removed]",
      "text/plain": [
       "<Figure size 432x288 with 1 Axes>"
      ]
     },
     "metadata": {
      "needs_background": "light"
     },
     "output_type": "display_data"
    }
   ],
   "source": [
    "plt.scatter(moons[:,0], moons[:,1], c=final_pred.reshape(10000))\n",
    "plt.show()"
   ]
  },
  {
   "cell_type": "code",
   "execution_count": 8,
   "metadata": {},
   "outputs": [
    {
     "name": "stdout",
     "output_type": "stream",
     "text": [
      "INFO:tensorflow:Restoring parameters from /home/tf_logs/logistic_regression.ckpt\n"
     ]
    }
   ],
   "source": [
    "import tensorflow as tf\n",
    "\n",
    "saver = tf.train.Saver()\n",
    "with tf.Session() as sess:\n",
    "    saver.restore(sess, '/home/tf_logs/logistic_regression.ckpt')\n",
    "    \n"
   ]
  }
 ],
 "metadata": {
  "kernelspec": {
   "display_name": "Python 2",
   "language": "python",
   "name": "python2"
  },
  "language_info": {
   "codemirror_mode": {
    "name": "ipython",
    "version": 2
   },
   "file_extension": ".py",
   "mimetype": "text/x-python",
   "name": "python",
   "nbconvert_exporter": "python",
   "pygments_lexer": "ipython2",
   "version": "2.7.18"
  }
 },
 "nbformat": 4,
 "nbformat_minor": 2
}
