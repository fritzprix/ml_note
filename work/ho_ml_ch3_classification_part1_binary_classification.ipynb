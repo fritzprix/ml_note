{
 "cells": [
  {
   "cell_type": "markdown",
   "metadata": {
    "id": "LBfON96lfqk9"
   },
   "source": [
    "# Ch.3 Classification (Part I)"
   ]
  },
  {
   "cell_type": "markdown",
   "metadata": {
    "id": "5ureFDlMfuRB"
   },
   "source": [
    "## Dataset for image classification (MNIST)\n",
    " * MNIST는 7만개의 숫자 이미지로 구성된 데이터\n",
    " * Classification 성능을 평가할 때 일종의 벤치마크 같은 용도로 종종 사용되기도 함\n",
    " * Scikit-learn은 이 MNIST Dataset을 내장하고 있음"
   ]
  },
  {
   "cell_type": "code",
   "execution_count": 3,
   "metadata": {
    "colab": {
     "base_uri": "https://localhost:8080/"
    },
    "executionInfo": {
     "elapsed": 2299,
     "status": "ok",
     "timestamp": 1604139734088,
     "user": {
      "displayName": "Dwid Lee",
      "photoUrl": "https://lh3.googleusercontent.com/a-/AOh14Gixfl5X8lgDFyhhUo5D3QhWvc8tKy0Y82fjakYT7Ys=s64",
      "userId": "12313335363494748854"
     },
     "user_tz": -540
    },
    "id": "O6TejWghe-cw",
    "outputId": "58878583-2d19-4d85-8ca8-db0ade7c389b"
   },
   "outputs": [
    {
     "name": "stdout",
     "output_type": "stream",
     "text": [
      "(1797, 64)\n"
     ]
    }
   ],
   "source": [
    "from sklearn.datasets import load_digits\n",
    " \n",
    "mnist = load_digits()\n",
    "X = mnist[\"data\"]\n",
    "y = mnist[\"target\"]\n",
    "print(X.shape)"
   ]
  },
  {
   "cell_type": "code",
   "execution_count": 4,
   "metadata": {
    "colab": {
     "base_uri": "https://localhost:8080/",
     "height": 265
    },
    "executionInfo": {
     "elapsed": 1681,
     "status": "ok",
     "timestamp": 1604139742662,
     "user": {
      "displayName": "Dwid Lee",
      "photoUrl": "https://lh3.googleusercontent.com/a-/AOh14Gixfl5X8lgDFyhhUo5D3QhWvc8tKy0Y82fjakYT7Ys=s64",
      "userId": "12313335363494748854"
     },
     "user_tz": -540
    },
    "id": "eGvM2hRS7SQy",
    "outputId": "5f259abd-60f9-4f1e-e197-15d0fe266c36"
   },
   "outputs": [
    {
     "name": "stdout",
     "output_type": "stream",
     "text": [
      "4\n"
     ]
    },
    {
     "data": {
      "text/plain": [
       "<Figure size 640x480 with 1 Axes>"
      ]
     },
     "metadata": {},
     "output_type": "display_data"
    }
   ],
   "source": [
    "import matplotlib\n",
    "import matplotlib.pyplot as plt\n",
    " \n",
    "sample = X[100]\n",
    "smpl_image = sample.reshape(8,8)\n",
    "print(y[100])\n",
    "plt.imshow(smpl_image, cmap=matplotlib.cm.binary, interpolation=\"nearest\")\n",
    "plt.axis(\"off\")\n",
    "plt.show()"
   ]
  },
  {
   "cell_type": "code",
   "execution_count": 5,
   "metadata": {
    "colab": {
     "base_uri": "https://localhost:8080/",
     "height": 53
    },
    "executionInfo": {
     "elapsed": 1963,
     "status": "ok",
     "timestamp": 1602957686601,
     "user": {
      "displayName": "Doowoong Lee",
      "photoUrl": "https://lh3.googleusercontent.com/a-/AOh14Gixfl5X8lgDFyhhUo5D3QhWvc8tKy0Y82fjakYT7Ys=s64",
      "userId": "12313335363494748854"
     },
     "user_tz": -540
    },
    "id": "66ARLJ5GIo1x",
    "outputId": "f2181b9c-bf3c-4e66-fc3d-a9807b213659"
   },
   "outputs": [
    {
     "name": "stdout",
     "output_type": "stream",
     "text": [
      "(1437, 64)\n",
      "(1437,)\n"
     ]
    }
   ],
   "source": [
    "from sklearn.model_selection import StratifiedShuffleSplit\n",
    " \n",
    "sss = StratifiedShuffleSplit(n_splits=1, test_size=0.2, random_state=43)\n",
    "for train_indices, test_indices in sss.split(X,y):\n",
    "    train_x, test_x = X[train_indices], X[test_indices]\n",
    "    train_y, test_y = y[train_indices], y[test_indices]\n",
    "    \n",
    "print(train_x.shape)\n",
    "print(train_y.shape)"
   ]
  },
  {
   "cell_type": "markdown",
   "metadata": {
    "id": "xfVvQsEtLQyX"
   },
   "source": [
    "## Training Binary Classifier\n",
    " - 입력에 대하여 특정 숫자인지 아닌지 (True or False)를 출력하는 Classifier\n",
    " - SGD (Stochastic Gradient Decsent) Classifier \n",
    "   - 큰 규모의 입력 데이터에 대하여 효율적 (트레이닝을 독립적으로 수행하기 때문에??)\n",
    "   "
   ]
  },
  {
   "cell_type": "code",
   "execution_count": 6,
   "metadata": {
    "colab": {
     "base_uri": "https://localhost:8080/",
     "height": 143
    },
    "executionInfo": {
     "elapsed": 1961,
     "status": "ok",
     "timestamp": 1602957686602,
     "user": {
      "displayName": "Doowoong Lee",
      "photoUrl": "https://lh3.googleusercontent.com/a-/AOh14Gixfl5X8lgDFyhhUo5D3QhWvc8tKy0Y82fjakYT7Ys=s64",
      "userId": "12313335363494748854"
     },
     "user_tz": -540
    },
    "id": "LTEoIZC7MkRu",
    "outputId": "cafc0b46-49d4-4069-a30b-c9fe5778b1f5"
   },
   "outputs": [
    {
     "name": "stdout",
     "output_type": "stream",
     "text": [
      "[False False False ...  True False False]\n"
     ]
    },
    {
     "name": "stderr",
     "output_type": "stream",
     "text": [
      "/usr/local/lib/python2.7/dist-packages/sklearn/linear_model/stochastic_gradient.py:166: FutureWarning: max_iter and tol parameters have been added in SGDClassifier in 0.19. If both are left unset, they default to max_iter=5 and tol=None. If tol is not None, max_iter defaults to max_iter=1000. From 0.21, default max_iter will be 1000, and default tol will be 1e-3.\n",
      "  FutureWarning)\n"
     ]
    },
    {
     "data": {
      "text/plain": [
       "SGDClassifier(alpha=0.0001, average=False, class_weight=None,\n",
       "       early_stopping=False, epsilon=0.1, eta0=0.0, fit_intercept=True,\n",
       "       l1_ratio=0.15, learning_rate='optimal', loss='hinge', max_iter=None,\n",
       "       n_iter=None, n_iter_no_change=5, n_jobs=None, penalty='l2',\n",
       "       power_t=0.5, random_state=43, shuffle=True, tol=None,\n",
       "       validation_fraction=0.1, verbose=0, warm_start=False)"
      ]
     },
     "execution_count": 6,
     "metadata": {},
     "output_type": "execute_result"
    }
   ],
   "source": [
    "from sklearn.linear_model import SGDClassifier\n",
    "\n",
    "train_y_4 = (train_y == 4)\n",
    "print(train_y_4)\n",
    "\n",
    "sgd_clf = SGDClassifier(random_state=43)\n",
    "sgd_clf.fit(train_x, train_y_4)"
   ]
  },
  {
   "cell_type": "code",
   "execution_count": 7,
   "metadata": {
    "colab": {
     "base_uri": "https://localhost:8080/",
     "height": 35
    },
    "executionInfo": {
     "elapsed": 1958,
     "status": "ok",
     "timestamp": 1602957686602,
     "user": {
      "displayName": "Doowoong Lee",
      "photoUrl": "https://lh3.googleusercontent.com/a-/AOh14Gixfl5X8lgDFyhhUo5D3QhWvc8tKy0Y82fjakYT7Ys=s64",
      "userId": "12313335363494748854"
     },
     "user_tz": -540
    },
    "id": "X68Bsr2gaMHZ",
    "outputId": "7669a63d-1388-41b5-b0d3-e4e5a1dba91f"
   },
   "outputs": [
    {
     "data": {
      "text/plain": [
       "array([ True])"
      ]
     },
     "execution_count": 7,
     "metadata": {},
     "output_type": "execute_result"
    }
   ],
   "source": [
    "sgd_clf.predict([sample])\n"
   ]
  },
  {
   "cell_type": "markdown",
   "metadata": {
    "id": "4I1qvY51apUs"
   },
   "source": [
    "## Performance Measures"
   ]
  },
  {
   "cell_type": "code",
   "execution_count": 8,
   "metadata": {
    "colab": {
     "base_uri": "https://localhost:8080/",
     "height": 71
    },
    "executionInfo": {
     "elapsed": 1957,
     "status": "ok",
     "timestamp": 1602957686603,
     "user": {
      "displayName": "Doowoong Lee",
      "photoUrl": "https://lh3.googleusercontent.com/a-/AOh14Gixfl5X8lgDFyhhUo5D3QhWvc8tKy0Y82fjakYT7Ys=s64",
      "userId": "12313335363494748854"
     },
     "user_tz": -540
    },
    "id": "UuLRiJ6satKW",
    "outputId": "76dc27e4-e822-44f0-ea57-252f9360f797"
   },
   "outputs": [
    {
     "name": "stdout",
     "output_type": "stream",
     "text": [
      "0\n",
      "0\n",
      "0\n"
     ]
    }
   ],
   "source": [
    "from sklearn.model_selection import StratifiedKFold\n",
    "from sklearn.base import clone\n",
    "\n",
    "sfolds = StratifiedKFold(n_splits=3, random_state=43, shuffle=True)\n",
    "\n",
    "for train_index, test_index in sfolds.split(train_x, train_y_4):\n",
    "  cloned_clf = clone(sgd_clf)\n",
    "  x_train_folds = train_x[train_index]\n",
    "  y_train_folds = train_y_4[train_index]\n",
    "  x_test_fold = train_x[test_index]\n",
    "  y_test_fold = train_y_4[test_index]\n",
    "\n",
    "  cloned_clf.fit(x_train_folds, y_train_folds)\n",
    "  y_pred = cloned_clf.predict(x_test_fold)\n",
    "  n_correct = sum(y_pred == y_test_fold)\n",
    "  print(n_correct / len(y_pred))\n"
   ]
  },
  {
   "cell_type": "markdown",
   "metadata": {
    "id": "aOP8TvsYeoCy"
   },
   "source": [
    "> random split한 data를 cross valdiation 테스트 한 결과 98% 이상의 정확도를 갖는 것 처럼 보일 수 있지만 이는 전체 데이터 중 해당 모델이 학습된 샘플(여기에서는 4)의 비율이 높다는 사실에 의해 편향될 수 있다. 이를 확인하기 위해 모두 true를 반환하는 classifier를 비교해보자"
   ]
  },
  {
   "cell_type": "code",
   "execution_count": 9,
   "metadata": {
    "id": "y2r-HaoNfkU5"
   },
   "outputs": [],
   "source": [
    "from sklearn.base import BaseEstimator\n",
    "import numpy as np\n",
    "\n",
    "class DumbClassifier(BaseEstimator):\n",
    "  def fit(self,X,y=None):\n",
    "    pass\n",
    "  def predict(self,X):\n",
    "    return np.zeros((len(X),1), dtype=bool)"
   ]
  },
  {
   "cell_type": "code",
   "execution_count": 10,
   "metadata": {
    "colab": {
     "base_uri": "https://localhost:8080/",
     "height": 35
    },
    "executionInfo": {
     "elapsed": 2756,
     "status": "ok",
     "timestamp": 1602957687406,
     "user": {
      "displayName": "Doowoong Lee",
      "photoUrl": "https://lh3.googleusercontent.com/a-/AOh14Gixfl5X8lgDFyhhUo5D3QhWvc8tKy0Y82fjakYT7Ys=s64",
      "userId": "12313335363494748854"
     },
     "user_tz": -540
    },
    "id": "DRmexkLxf6TI",
    "outputId": "b3d71346-2ad5-4e1b-8d17-d2db5ffaae92"
   },
   "outputs": [
    {
     "data": {
      "text/plain": [
       "array([0.9039666 , 0.91440501, 0.87891441])"
      ]
     },
     "execution_count": 10,
     "metadata": {},
     "output_type": "execute_result"
    }
   ],
   "source": [
    "from sklearn.model_selection import cross_val_score\n",
    "\n",
    "dumb_clf = DumbClassifier()\n",
    "cross_val_score(dumb_clf, train_x, train_y_4, cv=3, scoring=\"accuracy\")"
   ]
  },
  {
   "cell_type": "markdown",
   "metadata": {
    "id": "bf_YI-c3l5ZD"
   },
   "source": [
    "> 위 예시와 같이 classification에서는 (특히 데이터에 특정 Class에 skew가 있는 경우) 단순한 accuracy가 model의 적절한 performance measure 수단으로 사용되기 어렵다.\n",
    "\n"
   ]
  },
  {
   "cell_type": "markdown",
   "metadata": {
    "id": "tKn7onb2orTz"
   },
   "source": [
    "## cross_val_predict와 confusion matrix\n",
    " - cross_val_predict는 기본적인 동작은 cross_val_score와 동일하나 score 대신 각각의 fold의 prediction을 merge하여 original set과 동일한 size의 prediction을 반환한다.\n",
    " - 이를 원래의 label과 비교하여 false-false / false-true / true-false / true-true의 2x2 matrix를 얻기위하여 confusion matrix를 사용"
   ]
  },
  {
   "cell_type": "code",
   "execution_count": 11,
   "metadata": {
    "colab": {
     "base_uri": "https://localhost:8080/",
     "height": 35
    },
    "executionInfo": {
     "elapsed": 2755,
     "status": "ok",
     "timestamp": 1602957687407,
     "user": {
      "displayName": "Doowoong Lee",
      "photoUrl": "https://lh3.googleusercontent.com/a-/AOh14Gixfl5X8lgDFyhhUo5D3QhWvc8tKy0Y82fjakYT7Ys=s64",
      "userId": "12313335363494748854"
     },
     "user_tz": -540
    },
    "id": "DTIMrDeUh856",
    "outputId": "5ff62587-96e8-4c59-aaf1-f8c036c8eb2b"
   },
   "outputs": [
    {
     "data": {
      "text/plain": [
       "array([False, False, False, ...,  True, False, False])"
      ]
     },
     "execution_count": 11,
     "metadata": {},
     "output_type": "execute_result"
    }
   ],
   "source": [
    "from sklearn.model_selection import cross_val_predict\n",
    "\n",
    "y_train_pred = cross_val_predict(sgd_clf, train_x, train_y_4, cv=3)\n",
    "y_train_pred"
   ]
  },
  {
   "cell_type": "markdown",
   "metadata": {
    "id": "1DN11nehjtmG"
   },
   "source": [
    "### Confusion matrix"
   ]
  },
  {
   "cell_type": "code",
   "execution_count": 12,
   "metadata": {
    "colab": {
     "base_uri": "https://localhost:8080/",
     "height": 53
    },
    "executionInfo": {
     "elapsed": 2754,
     "status": "ok",
     "timestamp": 1602957687408,
     "user": {
      "displayName": "Doowoong Lee",
      "photoUrl": "https://lh3.googleusercontent.com/a-/AOh14Gixfl5X8lgDFyhhUo5D3QhWvc8tKy0Y82fjakYT7Ys=s64",
      "userId": "12313335363494748854"
     },
     "user_tz": -540
    },
    "id": "hjmjhZLni8PC",
    "outputId": "c3061225-0c3a-467b-dce3-22d7e1006376"
   },
   "outputs": [
    {
     "data": {
      "text/plain": [
       "array([[1285,    7],\n",
       "       [   6,  139]])"
      ]
     },
     "execution_count": 12,
     "metadata": {},
     "output_type": "execute_result"
    }
   ],
   "source": [
    "from sklearn.metrics import confusion_matrix\n",
    "confusion_matrix(train_y_4, y_train_pred)"
   ]
  },
  {
   "cell_type": "markdown",
   "metadata": {
    "id": "GM9yYVHGprpD"
   },
   "source": [
    ">  Confusion Matrix는 다음과 같은 형태를 갖는 2x2 matrix\n",
    "\n",
    "| |Classified Negative | Classified Positive|\n",
    "|---|:---:|:---:|\n",
    "| Negative | True Negative      |   False Positive       |\n",
    "| Positive | False Negative     |    True Positive      |"
   ]
  },
  {
   "cell_type": "markdown",
   "metadata": {
    "id": "YStPlQ25v6PF"
   },
   "source": [
    "## Classifier Precision & Recall\n",
    "> Confusion Matrix는 전체 positive 중 false positive와 true positve를 구분함으로써 data 내에 특정 class의 skew로 인한 착시 효과를 제거할 수 있다. 이를 조금 더 명료한 형태로 나타내는 것이 classifier의 precesion과 recall이다.\n",
    "\n",
    "#### precision = True_Positive / (True_Positive + False_Positive) \n",
    "> classifier가 대부분의 입력에 대해 negative로 prediction을 하는 경우 (필터에 비유하면 filter가 좁아지게 되는 경우) 수 많은 false negative에도 소수의 true positve가 존재하게 되면 높은 precision을 보이게된다. 이를 보완하기 위해 recall을 동시에 참조한다. (recall은 precesion과 반대의 문제점을 가지고 있다.)\n",
    "\n",
    "#### recall = True_Positive / (True_Positive + False_Negative)\n",
    "\n"
   ]
  },
  {
   "cell_type": "code",
   "execution_count": 13,
   "metadata": {
    "colab": {
     "base_uri": "https://localhost:8080/",
     "height": 53
    },
    "executionInfo": {
     "elapsed": 2752,
     "status": "ok",
     "timestamp": 1602957687408,
     "user": {
      "displayName": "Doowoong Lee",
      "photoUrl": "https://lh3.googleusercontent.com/a-/AOh14Gixfl5X8lgDFyhhUo5D3QhWvc8tKy0Y82fjakYT7Ys=s64",
      "userId": "12313335363494748854"
     },
     "user_tz": -540
    },
    "id": "z5U6FsrIkha6",
    "outputId": "1435e5b8-f700-4d92-9784-9bc876bafb3e"
   },
   "outputs": [
    {
     "name": "stdout",
     "output_type": "stream",
     "text": [
      "0.952054794520548\n",
      "0.9586206896551724\n"
     ]
    }
   ],
   "source": [
    "from sklearn.metrics import precision_score, recall_score\n",
    "\n",
    "print(precision_score(train_y_4, y_train_pred))\n",
    "print(recall_score(train_y_4, y_train_pred))"
   ]
  },
  {
   "cell_type": "markdown",
   "metadata": {
    "id": "TtLqjLfNlfyu"
   },
   "source": [
    "## Combine precision & recall into single metric (f1 score)"
   ]
  },
  {
   "cell_type": "code",
   "execution_count": 14,
   "metadata": {
    "colab": {
     "base_uri": "https://localhost:8080/",
     "height": 35
    },
    "executionInfo": {
     "elapsed": 2751,
     "status": "ok",
     "timestamp": 1602957687409,
     "user": {
      "displayName": "Doowoong Lee",
      "photoUrl": "https://lh3.googleusercontent.com/a-/AOh14Gixfl5X8lgDFyhhUo5D3QhWvc8tKy0Y82fjakYT7Ys=s64",
      "userId": "12313335363494748854"
     },
     "user_tz": -540
    },
    "id": "9LF_FxcllpXh",
    "outputId": "5ba24b60-5c45-4a1e-9dcd-e03812f14ee5"
   },
   "outputs": [
    {
     "data": {
      "text/plain": [
       "0.9553264604810997"
      ]
     },
     "execution_count": 14,
     "metadata": {},
     "output_type": "execute_result"
    }
   ],
   "source": [
    "from sklearn.metrics import f1_score\n",
    "\n",
    "f1_score(train_y_4, y_train_pred)"
   ]
  },
  {
   "cell_type": "markdown",
   "metadata": {
    "id": "Y_AXWhoEoZfB"
   },
   "source": [
    "## Precision/Recall Tradeoff\n",
    "* high precesion -> Too many false negative \n",
    "* high recall -> Too many false positive \n",
    "* Classifier의 목적에 따라서 precesion과 recall의 중요도가 달라질 수 있음. \n",
    "  - 아동용 비디오 컨텐츠 필터 (하나의 false positive라도 있으면 문제가 생길 수 있는 경우) -> **precision이 중요**\n",
    "  - Surveilance Camera (하나의 false negatvie라도 있으면 문제가 될 수 있는 경우) -> **recall이 중요**\n",
    "\n",
    "* Binary Classifier의 내부를 크게 2가지 요소로 쪼개서 보면\n",
    "> Binary classifier = decision_function (positive일 확률 혹은 점수) + threshold (positive로 판정하는 기준 확률)\n",
    "\n",
    " - 여기서 threshold를 높인다는 것은 precision을 높이는 것\n",
    " - 반대로 threshold를 낮춘다는 것은 recall을 높이는 것\n",
    "\n",
    " - scikit-learn에서는 predict method외에 decision_function method을 통해 입력의 positive / negatve scale을 얻을 수 있고 \n",
    " - 이를 통해 threshold에 따른 recall / precision의 변화를 살펴 볼 수 있음 (단, classifier 내부의 실제 값을 바꾸는 것은 허용되지 않음) \n",
    " "
   ]
  },
  {
   "cell_type": "code",
   "execution_count": 15,
   "metadata": {
    "colab": {
     "base_uri": "https://localhost:8080/",
     "height": 53
    },
    "executionInfo": {
     "elapsed": 2749,
     "status": "ok",
     "timestamp": 1602957687409,
     "user": {
      "displayName": "Doowoong Lee",
      "photoUrl": "https://lh3.googleusercontent.com/a-/AOh14Gixfl5X8lgDFyhhUo5D3QhWvc8tKy0Y82fjakYT7Ys=s64",
      "userId": "12313335363494748854"
     },
     "user_tz": -540
    },
    "id": "WQBs1jZItCRL",
    "outputId": "f45d697b-fdf3-436f-ec06-225021ef9579"
   },
   "outputs": [
    {
     "data": {
      "text/plain": [
       "array([ -8731.67435334,  -8747.23451932,  -7175.65775583, ...,\n",
       "         6722.81092969, -13920.95848695,  -9894.37926706])"
      ]
     },
     "execution_count": 15,
     "metadata": {},
     "output_type": "execute_result"
    }
   ],
   "source": [
    "y_scores = cross_val_predict(sgd_clf, train_x, train_y_4, cv=3, method=\"decision_function\")\n",
    "y_scores"
   ]
  },
  {
   "cell_type": "markdown",
   "metadata": {
    "id": "jBKEFGZkt3Xz"
   },
   "source": [
    "## Draw precision recall curve"
   ]
  },
  {
   "cell_type": "code",
   "execution_count": 16,
   "metadata": {
    "id": "EOuQFnI3t8vK"
   },
   "outputs": [],
   "source": [
    "from sklearn.metrics import precision_recall_curve\n",
    "\n",
    "sgd_scores = sgd_clf.decision_function(train_x)\n",
    "\n",
    "\n",
    "precisions , recalls, thresholds = precision_recall_curve(train_y_4, y_scores)\n",
    "\n"
   ]
  },
  {
   "cell_type": "code",
   "execution_count": 17,
   "metadata": {
    "colab": {
     "base_uri": "https://localhost:8080/",
     "height": 531
    },
    "executionInfo": {
     "elapsed": 2747,
     "status": "ok",
     "timestamp": 1602957687411,
     "user": {
      "displayName": "Doowoong Lee",
      "photoUrl": "https://lh3.googleusercontent.com/a-/AOh14Gixfl5X8lgDFyhhUo5D3QhWvc8tKy0Y82fjakYT7Ys=s64",
      "userId": "12313335363494748854"
     },
     "user_tz": -540
    },
    "id": "MkQVcQr9uu17",
    "outputId": "26eca512-546e-4e9c-9d88-68c838ac8767"
   },
   "outputs": [
    {
     "data": {
      "image/png": "[encoded data removed]",
      "text/plain": [
       "<Figure size 432x288 with 1 Axes>"
      ]
     },
     "metadata": {
      "needs_background": "light"
     },
     "output_type": "display_data"
    },
    {
     "data": {
      "image/png": "[encoded data removed]",
      "text/plain": [
       "<Figure size 432x288 with 1 Axes>"
      ]
     },
     "metadata": {
      "needs_background": "light"
     },
     "output_type": "display_data"
    }
   ],
   "source": [
    "def plot_precision_recall_vs_threshold(precisions, recalls, thresholds):\n",
    "  plt.plot(thresholds, precisions[:-1], \"r--\", label=\"Precision\")\n",
    "  plt.plot(thresholds, recalls[:-1], \"g-\", label=\"Recall\")\n",
    "  plt.xlabel(\"Threshold\")\n",
    "  plt.legend(loc=\"upper left\")\n",
    "  plt.ylim([0,1])\n",
    "\n",
    "plot_precision_recall_vs_threshold(precisions, recalls, thresholds)\n",
    "plt.show()\n",
    "\n",
    "plt.plot(recalls, precisions)\n",
    "plt.show()"
   ]
  },
  {
   "cell_type": "markdown",
   "metadata": {
    "id": "eVQGCfwClU1e"
   },
   "source": [
    "## ROC(**R**eceiver **O**perating **C**haracteristic) Curve \n",
    " - True Positive rate vs False Positive rate \n",
    "  - False positive & True Positive increases -> recall increases / precesion decreases\n",
    "  -  False positive & True Positive decreases -> recall decreases / precesion increases\n"
   ]
  },
  {
   "cell_type": "code",
   "execution_count": 18,
   "metadata": {
    "colab": {
     "base_uri": "https://localhost:8080/",
     "height": 283
    },
    "executionInfo": {
     "elapsed": 3406,
     "status": "ok",
     "timestamp": 1602957688073,
     "user": {
      "displayName": "Doowoong Lee",
      "photoUrl": "https://lh3.googleusercontent.com/a-/AOh14Gixfl5X8lgDFyhhUo5D3QhWvc8tKy0Y82fjakYT7Ys=s64",
      "userId": "12313335363494748854"
     },
     "user_tz": -540
    },
    "id": "Y1bNT2bMmhd3",
    "outputId": "4094a539-b274-4be1-afd4-1acf29fa7e24"
   },
   "outputs": [
    {
     "data": {
      "image/png": "[encoded data removed]",
      "text/plain": [
       "<Figure size 432x288 with 1 Axes>"
      ]
     },
     "metadata": {
      "needs_background": "light"
     },
     "output_type": "display_data"
    }
   ],
   "source": [
    "from sklearn.metrics import roc_curve\n",
    "\n",
    "fpr, tpr, thresholds = roc_curve(train_y_4, y_scores)\n",
    "\n",
    "def plot_roc_curve(fpr, tpr, label=None):\n",
    "  plt.plot(fpr, tpr, linewidth=2, label=label)\n",
    "  plt.plot([0,1],[0,1],'k--')\n",
    "  plt.axis([0,1,0,1])\n",
    "  plt.xlabel('False Positive Rate')\n",
    "  plt.ylabel('True Positive Rate')\n",
    "  \n",
    "plot_roc_curve(fpr, tpr)\n",
    "plt.show()"
   ]
  },
  {
   "cell_type": "markdown",
   "metadata": {
    "id": "qVFa_Ut2ozJw"
   },
   "source": [
    "## Compare Binary Classifier model (ROC AUC) \n",
    "- ROC Curve의 면적을 지표로써 서로 다른 classifier model의 성능을 비교 (클수록 좋음)"
   ]
  },
  {
   "cell_type": "code",
   "execution_count": null,
   "metadata": {
    "colab": {
     "base_uri": "https://localhost:8080/",
     "height": 35
    },
    "executionInfo": {
     "elapsed": 3404,
     "status": "ok",
     "timestamp": 1602957688073,
     "user": {
      "displayName": "Doowoong Lee",
      "photoUrl": "https://lh3.googleusercontent.com/a-/AOh14Gixfl5X8lgDFyhhUo5D3QhWvc8tKy0Y82fjakYT7Ys=s64",
      "userId": "12313335363494748854"
     },
     "user_tz": -540
    },
    "id": "CbrVee41pGMF",
    "outputId": "96f86ca2-ed55-4aaf-e83f-aef305636bd1"
   },
   "outputs": [
    {
     "data": {
      "text/plain": [
       "0.9912245115832176"
      ]
     },
     "execution_count": 153,
     "metadata": {
      "tags": []
     },
     "output_type": "execute_result"
    }
   ],
   "source": [
    "from sklearn.metrics import roc_auc_score\n",
    "roc_auc_score(train_y_4, y_scores)\n"
   ]
  },
  {
   "cell_type": "markdown",
   "metadata": {
    "id": "OSunsGDUpZiN"
   },
   "source": [
    "## ROC Curve VS PR (Precision Recall) Curve \n",
    " - false positive가 더 문제가될 경우 / positive class가 드문 application -> PR Cruve \n",
    " - 그렇지 않은 경우 ROC Curve를 사용\n",
    "\n",
    "### *일반적으로 ROC Curve / 그렇지 않고 false positive에 조금 더 주의를 기울일 필요가 있다면 PR Curve*"
   ]
  },
  {
   "cell_type": "markdown",
   "metadata": {
    "id": "FhXAuQiGqASG"
   },
   "source": [
    "## Random Forest Classifier"
   ]
  },
  {
   "cell_type": "code",
   "execution_count": null,
   "metadata": {
    "colab": {
     "base_uri": "https://localhost:8080/",
     "height": 301
    },
    "executionInfo": {
     "elapsed": 3699,
     "status": "ok",
     "timestamp": 1602957688370,
     "user": {
      "displayName": "Doowoong Lee",
      "photoUrl": "https://lh3.googleusercontent.com/a-/AOh14Gixfl5X8lgDFyhhUo5D3QhWvc8tKy0Y82fjakYT7Ys=s64",
      "userId": "12313335363494748854"
     },
     "user_tz": -540
    },
    "id": "SZzNGh3jqPcL",
    "outputId": "594922f5-3723-4f0f-da90-15bef9039cb2"
   },
   "outputs": [
    {
     "data": {
      "image/png": "[encoded data removed]",
      "text/plain": [
       "<Figure size 432x288 with 1 Axes>"
      ]
     },
     "metadata": {
      "needs_background": "light",
      "tags": []
     },
     "output_type": "display_data"
    },
    {
     "name": "stdout",
     "output_type": "stream",
     "text": [
      "0.9912245115832176\n",
      "0.9956549588982598\n"
     ]
    }
   ],
   "source": [
    "from sklearn.ensemble import RandomForestClassifier\n",
    "\n",
    "rf_clf = RandomForestClassifier(random_state=45)\n",
    "rf_probas_y = cross_val_predict(rf_clf, train_x, train_y_4, cv=3, method=\"predict_proba\") \n",
    "# the returned vector is (N x 2) predict_proba \n",
    "# 1st column is negative probability \n",
    "# 2nd colimn is positive probability \n",
    "\n",
    "rf_scores_y = rf_probas_y[:,1] #  convert proba to scores by simply selecting 2nd column\n",
    "rf_fpr, rf_tpr, rf_threshold = roc_curve(train_y_4, rf_scores_y)\n",
    "\n",
    "plt.plot(fpr, tpr, \"b:\", label=\"SGD\")\n",
    "plt.plot(rf_fpr, rf_tpr, label=\"Random Forest\")\n",
    "plt.show()\n",
    "\n",
    "print(roc_auc_score(train_y_4, y_scores))\n",
    "print(roc_auc_score(train_y_4, rf_scores_y))\n"
   ]
  }
 ],
 "metadata": {
  "colab": {
   "authorship_tag": "ABX9TyM3uByac9pWUiYHrfruG5N5",
   "collapsed_sections": [],
   "name": "ho_ml_ch3_classification_part1_binary_classification.ipynb",
   "provenance": []
  },
  "kernelspec": {
   "display_name": "Python 2",
   "language": "python",
   "name": "python2"
  },
  "language_info": {
   "codemirror_mode": {
    "name": "ipython",
    "version": 2
   },
   "file_extension": ".py",
   "mimetype": "text/x-python",
   "name": "python",
   "nbconvert_exporter": "python",
   "pygments_lexer": "ipython2",
   "version": "2.7.17"
  }
 },
 "nbformat": 4,
 "nbformat_minor": 2
}
