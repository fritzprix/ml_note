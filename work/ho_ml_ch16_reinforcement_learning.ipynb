{
 "cells": [
  {
   "cell_type": "markdown",
   "metadata": {},
   "source": [
    "# Ch.16 Reinforcement Learning\n",
    "- has been around since 1950s\n",
    "- popular in Games and machine control.. \n",
    "- recent success..\n",
    "  - Alpha Go @ google deep mind\n",
    "  \n",
    "- Most significant methods for Reinforcement learning\n",
    "  - Policy Gradients\n",
    "  - Q-networks (Deep Q-network)\n",
    "  \n",
    "  "
   ]
  },
  {
   "cell_type": "markdown",
   "metadata": {},
   "source": [
    "## Policy Search\n",
    "#### Policy\n",
    "  - Algorithm to detrmine its actions\n",
    "  - defined as policy parameters (for example of motor control , rotator speed ,angle, etc.)\n",
    "  - the number of policy parameters => policy space \n",
    "    - large policy space = there are large number of policy parameters\n",
    "    \n",
    "#### Policy Search\n",
    "  - Brute force\n",
    "    - try out many different values \n",
    "  - Genetic Algorithm \n",
    "    - try randomly generated policy and let only a few survive and generate sibling from the survivor with random variation on parameters\n",
    "  - Policy Gradients (PG)\n",
    "    - update policy parameters with gradient descent"
   ]
  },
  {
   "cell_type": "code",
   "execution_count": 1,
   "metadata": {
    "scrolled": false
   },
   "outputs": [],
   "source": [
    "import matplotlib.pyplot as plt\n",
    "import gym\n",
    "import tensorflow as tf\n",
    "\n",
    "\n",
    "class Agent():\n",
    "    def ____init__(self):\n",
    "        super(Agent).__init__()\n",
    "        \n",
    "g = Agent()\n",
    "\n",
    "n_ep = 500\n",
    "env = gym.make(\"CartPole-v0\")\n",
    "totals = []\n",
    "for ep in range(n_ep):\n",
    "    ep_rewards = 0\n",
    "    obs = env.reset()\n",
    "    for _ in range(1000):\n",
    "        action = env.action_space.sample()\n",
    "        obs, reward, done, info = env.step(action)\n",
    "        ep_rewards += reward\n",
    "        if done:\n",
    "            break\n",
    "    totals.append(ep_rewards)\n",
    "env.close()\n",
    "# print(totals)\n"
   ]
  }
 ],
 "metadata": {
  "kernelspec": {
   "display_name": "Python 3",
   "language": "python",
   "name": "python3"
  },
  "language_info": {
   "codemirror_mode": {
    "name": "ipython",
    "version": 3
   },
   "file_extension": ".py",
   "mimetype": "text/x-python",
   "name": "python",
   "nbconvert_exporter": "python",
   "pygments_lexer": "ipython3",
   "version": "3.6.9"
  }
 },
 "nbformat": 4,
 "nbformat_minor": 4
}
