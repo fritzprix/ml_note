{
 "cells": [
  {
   "attachments": {},
   "cell_type": "markdown",
   "metadata": {},
   "source": [
    "# Autoregression Performance FFN vs RNN\n",
    "> 일반적으로 FFN은 입력의 순차적 종속성을 modeling하는데 한계가 있어 autoregressive task에서 취약점을 가지고 있다. 반면 GRU 등의 RNN계열의 모델은 hidden state를 통해 step window 이전의 sequence에 대한 summary 정보를 활용할 수 있으며 GRU의 경우 추가로 gating mechanism을 가지고 있어 보다 long term 의존성에 강건한 특성을 갖는 것으로 알려져 있다. 이를 몇 가지 경우에 적용하여 FFN과 GRU가 보이는 특성의 경향을 살펴보고 예외적인 경우 그리고 실제 적용 시 유용할 수 있는 Implication을 정리할 예정\n",
    "\n",
    "\n",
    "## 1. 단순한 주기성을 갖는 Sinusoidal Input에 대한 비교 실험\n",
    "- Sinusoidal time series의 경우 매우 단순한 주기성을 갖고 있기 때문에 long term dependency를 다룰 수 없는 FFN로도 충분한 성능을 얻을 수 있을 것으로 예상된다. 이를 확인하기 위해 1 cycle의 sin timeseries 입력을 생성하여 학습 시키고 prediction의 step을 증가시키며 발생되는 error의 누적의 영향, step window의 fractional length (e.g. 1 / 100일 경우 전체 입력 sample이 1000개일 때 10)의 변화에 따라 어떻게 영향을 받는 지 등을 실험해 보고자 한다. \n",
    "\n",
    "- 유사한 규모의 FFN / RNN (GRU)\n",
    "  - FNN 3개의 Hidden Layer를 갖는 FFN를 구성 ReLU를 Activation으로 사용하여 아래와 같이 구성\n",
    "  - FNN Model (1.5K parameters)\n",
    "  \n",
    "```\n",
    "(net): Sequential(\n",
    "  (0): Linear(in_features=10, out_features=20, bias=True)\n",
    "  (1): ReLU()\n",
    "  (2): Sequential(\n",
    "    (0): Linear(in_features=20, out_features=20, bias=True)\n",
    "    (1): ReLU()\n",
    "  )\n",
    "  (3): Sequential(\n",
    "    (0): Linear(in_features=20, out_features=20, bias=True)\n",
    "    (1): ReLU()\n",
    "  )\n",
    "  (4): Sequential(\n",
    "    (0): Linear(in_features=20, out_features=20, bias=True)\n",
    "    (1): ReLU()\n",
    "  )\n",
    "  (5): Linear(in_features=20, out_features=1, bias=True)\n",
    ")\n",
    "```\n",
    "- RNN Model (1.8K parameters)\n",
    "```\n",
    "(model): Sequential(\n",
    "    (0): GRU(1, 10, num_layers=3, batch_first=True)\n",
    "    (1): SelectItem()\n",
    "    (2): Flatten(start_dim=1, end_dim=-1)\n",
    "    (3): Linear(in_features=100, out_features=1, bias=True)\n",
    "  )\n",
    "```\n",
    "\n"
   ]
  },
  {
   "cell_type": "code",
   "execution_count": 34,
   "metadata": {},
   "outputs": [
    {
     "name": "stderr",
     "output_type": "stream",
     "text": [
      "GPU available: True (cuda), used: True\n",
      "TPU available: False, using: 0 TPU cores\n",
      "IPU available: False, using: 0 IPUs\n",
      "HPU available: False, using: 0 HPUs\n",
      "LOCAL_RANK: 0 - CUDA_VISIBLE_DEVICES: [0]\n"
     ]
    },
    {
     "name": "stdout",
     "output_type": "stream",
     "text": [
      "FFN parameters : 1501\n",
      "RNN parameters : 1811\n"
     ]
    },
    {
     "name": "stderr",
     "output_type": "stream",
     "text": [
      "/home/fritzprix/miniconda3/envs/directml/lib/python3.10/site-packages/pytorch_lightning/trainer/connectors/data_connector.py:224: PossibleUserWarning: The dataloader, test_dataloader 0, does not have many workers which may be a bottleneck. Consider increasing the value of the `num_workers` argument` (try 16 which is the number of cpus on this machine) in the `DataLoader` init to improve performance.\n",
      "  rank_zero_warn(\n"
     ]
    },
    {
     "data": {
      "application/vnd.jupyter.widget-view+json": {
       "model_id": "f54df7163c7740b9a5b63563f9202788",
       "version_major": 2,
       "version_minor": 0
      },
      "text/plain": [
       "Testing: 0it [00:00, ?it/s]"
      ]
     },
     "metadata": {},
     "output_type": "display_data"
    },
    {
     "name": "stderr",
     "output_type": "stream",
     "text": [
      "LOCAL_RANK: 0 - CUDA_VISIBLE_DEVICES: [0]\n"
     ]
    },
    {
     "name": "stdout",
     "output_type": "stream",
     "text": [
      "────────────────────────────────────────────────────────────────────────────────────────────────────────────────────────\n",
      "       Test metric             DataLoader 0\n",
      "────────────────────────────────────────────────────────────────────────────────────────────────────────────────────────\n",
      "        test_loss          6.121514888945967e-05\n",
      "────────────────────────────────────────────────────────────────────────────────────────────────────────────────────────\n"
     ]
    },
    {
     "data": {
      "application/vnd.jupyter.widget-view+json": {
       "model_id": "feefc5e9d9a04e58b0d759ef2e14d1e7",
       "version_major": 2,
       "version_minor": 0
      },
      "text/plain": [
       "Testing: 0it [00:00, ?it/s]"
      ]
     },
     "metadata": {},
     "output_type": "display_data"
    },
    {
     "name": "stdout",
     "output_type": "stream",
     "text": [
      "────────────────────────────────────────────────────────────────────────────────────────────────────────────────────────\n",
      "       Test metric             DataLoader 0\n",
      "────────────────────────────────────────────────────────────────────────────────────────────────────────────────────────\n",
      "        test_loss          5.436805440695025e-05\n",
      "────────────────────────────────────────────────────────────────────────────────────────────────────────────────────────\n"
     ]
    },
    {
     "data": {
      "text/plain": [
       "[{'test_loss': 5.436805440695025e-05}]"
      ]
     },
     "execution_count": 34,
     "metadata": {},
     "output_type": "execute_result"
    }
   ],
   "source": [
    "from model import FFNAutoregressor, GRUAutoregress, SinusoidalTimeSeries\n",
    "import pytorch_lightning as pl\n",
    "from torch.utils import data\n",
    "\n",
    "\n",
    "\n",
    "ffn_model = FFNAutoregressor.load_from_checkpoint('./model/ffn/model.ckpt')\n",
    "gru_model = GRUAutoregress.load_from_checkpoint('./model/gru/model.ckpt')\n",
    "\n",
    "def total_param(model: pl.LightningModule):\n",
    "    return sum(p.numel() for p in model.parameters())\n",
    "\n",
    "print(f\"FFN parameters : {total_param(ffn_model)}\")\n",
    "print(f\"RNN parameters : {total_param(gru_model)}\")\n",
    "\n",
    "\n",
    "dataset = SinusoidalTimeSeries(n_samples=4000)\n",
    "trainer = pl.Trainer(accelerator=\"gpu\")\n",
    "trainer.test(ffn_model, dataloaders=data.DataLoader(dataset=dataset, batch_size=50))\n",
    "trainer.test(gru_model, dataloaders=data.DataLoader(dataset=dataset, batch_size=50))\n"
   ]
  },
  {
   "cell_type": "code",
   "execution_count": 3,
   "metadata": {},
   "outputs": [
    {
     "name": "stderr",
     "output_type": "stream",
     "text": [
      "100%|██████████| 80/80 [00:02<00:00, 39.69it/s]\n",
      "100%|██████████| 80/80 [00:00<00:00, 1956.85it/s]\n",
      "100%|██████████| 80/80 [00:02<00:00, 32.99it/s]\n",
      "100%|██████████| 80/80 [00:04<00:00, 18.72it/s]\n",
      "100%|██████████| 80/80 [00:05<00:00, 14.39it/s]\n",
      "100%|██████████| 80/80 [00:07<00:00, 11.36it/s]\n",
      "100%|██████████| 80/80 [00:00<00:00, 2180.09it/s]\n",
      "100%|██████████| 80/80 [00:01<00:00, 47.06it/s]\n",
      "100%|██████████| 80/80 [00:02<00:00, 32.87it/s]\n",
      "100%|██████████| 80/80 [00:03<00:00, 20.75it/s]\n",
      "100%|██████████| 80/80 [00:05<00:00, 13.52it/s]\n"
     ]
    }
   ],
   "source": [
    "import utils\n",
    "from model import SinusoidalTimeSeries\n",
    "import train\n",
    "import os\n",
    "import torch\n",
    "\n",
    "dataset = SinusoidalTimeSeries(n_samples=4000)\n",
    "k_sweep = range(0, 500, 100)\n",
    "device = torch.device('cuda')\n",
    "batch_size = 50\n",
    "\n",
    "reference = utils.predict_k_step_ahead(gru_model,dataset, batch_size=batch_size, device=device)\n",
    "gru_preds = utils.sweep_kahead_pred(gru_model, dataset, k_sweep=k_sweep, device=device, batch_size=batch_size)\n",
    "ffn_preds = utils.sweep_kahead_pred(ffn_model, dataset, k_sweep=k_sweep, device=device, batch_size=batch_size)\n",
    "\n"
   ]
  },
  {
   "cell_type": "code",
   "execution_count": 33,
   "metadata": {},
   "outputs": [
    {
     "data": {
      "image/png": "[encoded data removed]",
      "text/plain": [
       "<Figure size 640x480 with 1 Axes>"
      ]
     },
     "metadata": {},
     "output_type": "display_data"
    },
    {
     "name": "stdout",
     "output_type": "stream",
     "text": [
      "FFN Loss grow : 6.7044104618909675\n",
      "GRU Loss grow : 13.511592166042556\n"
     ]
    }
   ],
   "source": [
    "import utils\n",
    "from torch.nn import functional as F\n",
    "from matplotlib import pyplot as plt\n",
    "import numpy as np\n",
    "\n",
    "\n",
    "gru_losses = [F.mse_loss(pred, reference).cpu().detach().item() for pred in gru_preds]\n",
    "ffn_losses = [F.mse_loss(pred, reference).cpu().detach().item() for pred in ffn_preds]\n",
    "\n",
    "x = np.array(range(0,500,100))\n",
    "plt.bar(x, gru_losses, color='r', width=10, label='GRU losses')\n",
    "plt.bar(x + 10, ffn_losses, color='b', width=10, label='FFN losses')\n",
    "plt.xlabel('prediction offset')\n",
    "plt.legend()\n",
    "plt.show()\n",
    "\n",
    "print(f\"FFN Loss grow : {ffn_losses[-1] / ffn_losses[1]}\")\n",
    "print(f\"GRU Loss grow : {gru_losses[-1] / gru_losses[1]}\")\n"
   ]
  },
  {
   "attachments": {},
   "cell_type": "markdown",
   "metadata": {},
   "source": [
    "## N-Step Prediction Sweep Test\n",
    "\n",
    "> 예측 Step의 길이를 100 ~ 400까지 증가 시키면서 성능의 열화가 발생하는 정도는 RNN이 FFN보다 우위의 성능을 보였다. 다만 prediction step이 커질 수록 GRU가 loss 열화가 더 가속화 되는 측면이 있었다. (Why?)"
   ]
  },
  {
   "attachments": {},
   "cell_type": "markdown",
   "metadata": {},
   "source": [
    "- Step 1 prediction의 결과 거의 0에 수렴하는 mse loss값을 보임\n",
    "- prediction step을 증가 시킬 때 오차가 얼마나 증가하는지 테스트"
   ]
  },
  {
   "cell_type": "code",
   "execution_count": 6,
   "metadata": {},
   "outputs": [
    {
     "name": "stderr",
     "output_type": "stream",
     "text": [
      "100%|██████████| 1989/1989 [00:00<00:00, 61037.41it/s]\n",
      "100%|██████████| 1989/1989 [00:02<00:00, 711.13it/s]\n",
      "100%|██████████| 1989/1989 [00:05<00:00, 383.32it/s]\n",
      " 95%|█████████▍| 1888/1989 [00:10<00:03, 32.67it/s] "
     ]
    },
    {
     "ename": "",
     "evalue": "",
     "output_type": "error",
     "traceback": [
      "\u001b[1;31mCanceled future for execute_request message before replies were done"
     ]
    },
    {
     "ename": "",
     "evalue": "",
     "output_type": "error",
     "traceback": [
      "\u001b[1;31mThe Kernel crashed while executing code in the the current cell or a previous cell. Please review the code in the cell(s) to identify a possible cause of the failure. Click <a href='https://aka.ms/vscodeJupyterKernelCrash'>here</a> for more info. View Jupyter <a href='command:jupyter.viewOutput'>log</a> for further details."
     ]
    }
   ],
   "source": [
    "\n",
    "\n",
    "\n",
    "preds = [predict_k_step(model, data_loader, i) for i in range(0,200,50)]\n",
    "\n",
    "\n",
    "from matplotlib import pyplot as plt\n",
    "from torch.nn import functional as F\n",
    "\n",
    "def draw_comparison_chart(predicts:list, ref_idx: int = 0):\n",
    "    predict_tensors = [torch.Tensor(pred) for pred in preds]\n",
    "    fig = plt.figure()\n",
    "    for idx, pred in enumerate(predict_tensors):\n",
    "        loss = F.mse_loss(pred, predict_tensors[0])\n",
    "        plt.plot(pred, label=f\"{idx} loss {loss}\")\n",
    "    plt.legend()\n",
    "    plt.show()\n",
    "    \n",
    "draw_comparison_chart(preds, 0)\n",
    "\n",
    "\n"
   ]
  },
  {
   "attachments": {},
   "cell_type": "markdown",
   "metadata": {},
   "source": [
    "- step 151에서 loss는 0.004로 step 1 대비 약 40배 증가\n",
    "- 이처럼 step size 증가할 수록 error가 커짐"
   ]
  },
  {
   "cell_type": "code",
   "execution_count": 6,
   "metadata": {},
   "outputs": [],
   "source": [
    "import pytorch_lightning as pl\n",
    "import torch\n",
    "from torch import nn\n",
    "\n",
    "class SelectItem(nn.Module):\n",
    "    def __init__(self, idx):\n",
    "        super().__init__()\n",
    "        self.idx = idx\n",
    "        \n",
    "    def forward(self, inputs) -> torch.Tensor:\n",
    "        return inputs[self.idx]\n",
    "        \n",
    "\n",
    "\n",
    "class GRUAutoregress(pl.LightningModule):\n",
    "    def __init__(self, n_steps, lr=1e-4):\n",
    "        super().__init__()\n",
    "        self.lr = lr\n",
    "        self.model = nn.Sequential(\n",
    "            nn.GRU(input_size=1, hidden_size=10, batch_first=True, num_layers=2),\n",
    "            SelectItem(0),\n",
    "            nn.Flatten(),\n",
    "            nn.Linear(100, 1)\n",
    "        )\n",
    "        self.loss = nn.MSELoss()\n",
    "        self.save_hyperparameters()\n",
    "        \n",
    "    def forward(self, X):\n",
    "        assert(isinstance(X, torch.Tensor))\n",
    "        X = X.unsqueeze(dim=2)\n",
    "        return self.model(X)\n",
    "    \n",
    "    def training_step(self, batch, batch_idx) -> torch.Tensor:\n",
    "        X, y = batch\n",
    "        assert(isinstance(X, torch.Tensor))\n",
    "        assert(isinstance(y, torch.Tensor))\n",
    "        y_hat = self(X)\n",
    "        loss = self.loss(y_hat, y)\n",
    "        return loss\n",
    "        \n",
    "    def configure_optimizers(self) -> torch.optim.Optimizer:\n",
    "        return torch.optim.Adam(self.parameters(), lr=self.lr)\n",
    "    \n",
    "    def validation_step(self, batch, batch_idx):\n",
    "        X,y = batch\n",
    "        assert(isinstance(X, torch.Tensor))\n",
    "        assert(isinstance(y, torch.Tensor))\n",
    "        y_hat = self(X)\n",
    "        loss = nn.functional.mse_loss(y_hat, y)\n",
    "        self.log(\"val_loss\", loss)\n",
    "        return {\"val_loss\": loss}\n",
    "    \n",
    "    def test_step(self, batch, batch_idx):\n",
    "        X,y = batch\n",
    "        assert(isinstance(X, torch.Tensor))\n",
    "        assert(isinstance(y, torch.Tensor))\n",
    "        y_hat = self(X)\n",
    "        loss = nn.functional.mse_loss(y_hat, y)\n",
    "        self.log(\"test_loss\", loss)\n",
    "        return {\"test_loss\": loss}"
   ]
  },
  {
   "cell_type": "code",
   "execution_count": 7,
   "metadata": {},
   "outputs": [
    {
     "name": "stderr",
     "output_type": "stream",
     "text": [
      "GPU available: True (cuda), used: True\n",
      "TPU available: False, using: 0 TPU cores\n",
      "IPU available: False, using: 0 IPUs\n",
      "HPU available: False, using: 0 HPUs\n",
      "/home/fritzprix/miniconda3/envs/directml/lib/python3.10/site-packages/pytorch_lightning/callbacks/model_checkpoint.py:604: UserWarning: Checkpoint directory /home/fritzprix/my_work/ml_note/labs/sin_sequence_model/model/gru exists and is not empty.\n",
      "  rank_zero_warn(f\"Checkpoint directory {dirpath} exists and is not empty.\")\n",
      "LOCAL_RANK: 0 - CUDA_VISIBLE_DEVICES: [0]\n",
      "\n",
      "  | Name  | Type       | Params\n",
      "-------------------------------------\n",
      "0 | model | Sequential | 1.2 K \n",
      "1 | loss  | MSELoss    | 0     \n",
      "-------------------------------------\n",
      "1.2 K     Trainable params\n",
      "0         Non-trainable params\n",
      "1.2 K     Total params\n",
      "0.005     Total estimated model params size (MB)\n"
     ]
    },
    {
     "data": {
      "application/vnd.jupyter.widget-view+json": {
       "model_id": "7a0ba1d61c46446cb9604196aa65010e",
       "version_major": 2,
       "version_minor": 0
      },
      "text/plain": [
       "Sanity Checking: 0it [00:00, ?it/s]"
      ]
     },
     "metadata": {},
     "output_type": "display_data"
    },
    {
     "data": {
      "application/vnd.jupyter.widget-view+json": {
       "model_id": "0ac716395b214be096b44f3a0ecf800a",
       "version_major": 2,
       "version_minor": 0
      },
      "text/plain": [
       "Training: 0it [00:00, ?it/s]"
      ]
     },
     "metadata": {},
     "output_type": "display_data"
    },
    {
     "data": {
      "application/vnd.jupyter.widget-view+json": {
       "model_id": "e9f58d10e007426ca2605ac6ff39ca45",
       "version_major": 2,
       "version_minor": 0
      },
      "text/plain": [
       "Validation: 0it [00:00, ?it/s]"
      ]
     },
     "metadata": {},
     "output_type": "display_data"
    },
    {
     "data": {
      "application/vnd.jupyter.widget-view+json": {
       "model_id": "a1b48a1ee3d04f489c821a0431c1ef18",
       "version_major": 2,
       "version_minor": 0
      },
      "text/plain": [
       "Validation: 0it [00:00, ?it/s]"
      ]
     },
     "metadata": {},
     "output_type": "display_data"
    },
    {
     "data": {
      "application/vnd.jupyter.widget-view+json": {
       "model_id": "e4378ac370e245a9bf59a942a73f27e2",
       "version_major": 2,
       "version_minor": 0
      },
      "text/plain": [
       "Validation: 0it [00:00, ?it/s]"
      ]
     },
     "metadata": {},
     "output_type": "display_data"
    },
    {
     "data": {
      "application/vnd.jupyter.widget-view+json": {
       "model_id": "35034ba44d5c49308a922fea966c210a",
       "version_major": 2,
       "version_minor": 0
      },
      "text/plain": [
       "Validation: 0it [00:00, ?it/s]"
      ]
     },
     "metadata": {},
     "output_type": "display_data"
    },
    {
     "data": {
      "application/vnd.jupyter.widget-view+json": {
       "model_id": "f2fe42a979a34038a2a20de8bca572c5",
       "version_major": 2,
       "version_minor": 0
      },
      "text/plain": [
       "Validation: 0it [00:00, ?it/s]"
      ]
     },
     "metadata": {},
     "output_type": "display_data"
    },
    {
     "data": {
      "application/vnd.jupyter.widget-view+json": {
       "model_id": "2a5d4ccd4212467499a464fc09fd66aa",
       "version_major": 2,
       "version_minor": 0
      },
      "text/plain": [
       "Validation: 0it [00:00, ?it/s]"
      ]
     },
     "metadata": {},
     "output_type": "display_data"
    },
    {
     "data": {
      "application/vnd.jupyter.widget-view+json": {
       "model_id": "ad2f1839136746a0b1f6c86f83df8854",
       "version_major": 2,
       "version_minor": 0
      },
      "text/plain": [
       "Validation: 0it [00:00, ?it/s]"
      ]
     },
     "metadata": {},
     "output_type": "display_data"
    },
    {
     "data": {
      "application/vnd.jupyter.widget-view+json": {
       "model_id": "6f6db7bac4d7410b88a7575ca41f4b0d",
       "version_major": 2,
       "version_minor": 0
      },
      "text/plain": [
       "Validation: 0it [00:00, ?it/s]"
      ]
     },
     "metadata": {},
     "output_type": "display_data"
    },
    {
     "data": {
      "application/vnd.jupyter.widget-view+json": {
       "model_id": "8d32282968df41c786eac0cc6a46b721",
       "version_major": 2,
       "version_minor": 0
      },
      "text/plain": [
       "Validation: 0it [00:00, ?it/s]"
      ]
     },
     "metadata": {},
     "output_type": "display_data"
    },
    {
     "data": {
      "application/vnd.jupyter.widget-view+json": {
       "model_id": "a4857fb20c0347c69376780456f6263d",
       "version_major": 2,
       "version_minor": 0
      },
      "text/plain": [
       "Validation: 0it [00:00, ?it/s]"
      ]
     },
     "metadata": {},
     "output_type": "display_data"
    },
    {
     "data": {
      "application/vnd.jupyter.widget-view+json": {
       "model_id": "591cae0e247a4c74bd2ef0841a4596ba",
       "version_major": 2,
       "version_minor": 0
      },
      "text/plain": [
       "Validation: 0it [00:00, ?it/s]"
      ]
     },
     "metadata": {},
     "output_type": "display_data"
    },
    {
     "data": {
      "application/vnd.jupyter.widget-view+json": {
       "model_id": "0adf275434294754891f5b52363ba1ce",
       "version_major": 2,
       "version_minor": 0
      },
      "text/plain": [
       "Validation: 0it [00:00, ?it/s]"
      ]
     },
     "metadata": {},
     "output_type": "display_data"
    },
    {
     "data": {
      "application/vnd.jupyter.widget-view+json": {
       "model_id": "2861027b7bc443c19f1645125d6df11a",
       "version_major": 2,
       "version_minor": 0
      },
      "text/plain": [
       "Validation: 0it [00:00, ?it/s]"
      ]
     },
     "metadata": {},
     "output_type": "display_data"
    },
    {
     "data": {
      "application/vnd.jupyter.widget-view+json": {
       "model_id": "57ed8f74febf465d8d09fe63d1adff5e",
       "version_major": 2,
       "version_minor": 0
      },
      "text/plain": [
       "Validation: 0it [00:00, ?it/s]"
      ]
     },
     "metadata": {},
     "output_type": "display_data"
    },
    {
     "data": {
      "application/vnd.jupyter.widget-view+json": {
       "model_id": "f93d1debe37d476b8cc46b8bb839fef8",
       "version_major": 2,
       "version_minor": 0
      },
      "text/plain": [
       "Validation: 0it [00:00, ?it/s]"
      ]
     },
     "metadata": {},
     "output_type": "display_data"
    },
    {
     "data": {
      "application/vnd.jupyter.widget-view+json": {
       "model_id": "921c3465ec02480cab3563ebfb6f66b8",
       "version_major": 2,
       "version_minor": 0
      },
      "text/plain": [
       "Validation: 0it [00:00, ?it/s]"
      ]
     },
     "metadata": {},
     "output_type": "display_data"
    },
    {
     "data": {
      "application/vnd.jupyter.widget-view+json": {
       "model_id": "3a3722d8f5e54fd3a92a163c511fa5b7",
       "version_major": 2,
       "version_minor": 0
      },
      "text/plain": [
       "Validation: 0it [00:00, ?it/s]"
      ]
     },
     "metadata": {},
     "output_type": "display_data"
    },
    {
     "data": {
      "application/vnd.jupyter.widget-view+json": {
       "model_id": "34217ae4b4f24036930b4f55f2b3a494",
       "version_major": 2,
       "version_minor": 0
      },
      "text/plain": [
       "Validation: 0it [00:00, ?it/s]"
      ]
     },
     "metadata": {},
     "output_type": "display_data"
    },
    {
     "data": {
      "application/vnd.jupyter.widget-view+json": {
       "model_id": "a45dafc14d664648b619e98091e82f2e",
       "version_major": 2,
       "version_minor": 0
      },
      "text/plain": [
       "Validation: 0it [00:00, ?it/s]"
      ]
     },
     "metadata": {},
     "output_type": "display_data"
    },
    {
     "data": {
      "application/vnd.jupyter.widget-view+json": {
       "model_id": "bb444ac515b9480db73645da43d0faa0",
       "version_major": 2,
       "version_minor": 0
      },
      "text/plain": [
       "Validation: 0it [00:00, ?it/s]"
      ]
     },
     "metadata": {},
     "output_type": "display_data"
    },
    {
     "data": {
      "application/vnd.jupyter.widget-view+json": {
       "model_id": "0f4ecec80ffa4c03a9f4dc0aaf53986f",
       "version_major": 2,
       "version_minor": 0
      },
      "text/plain": [
       "Validation: 0it [00:00, ?it/s]"
      ]
     },
     "metadata": {},
     "output_type": "display_data"
    },
    {
     "data": {
      "application/vnd.jupyter.widget-view+json": {
       "model_id": "b6af1751938f4c76ad1acca3f4a42e35",
       "version_major": 2,
       "version_minor": 0
      },
      "text/plain": [
       "Validation: 0it [00:00, ?it/s]"
      ]
     },
     "metadata": {},
     "output_type": "display_data"
    },
    {
     "data": {
      "application/vnd.jupyter.widget-view+json": {
       "model_id": "f9cd1d59994748818df341c80e291bc4",
       "version_major": 2,
       "version_minor": 0
      },
      "text/plain": [
       "Validation: 0it [00:00, ?it/s]"
      ]
     },
     "metadata": {},
     "output_type": "display_data"
    },
    {
     "data": {
      "application/vnd.jupyter.widget-view+json": {
       "model_id": "eece2b09a9d747d6b258c4f6efcb4a29",
       "version_major": 2,
       "version_minor": 0
      },
      "text/plain": [
       "Validation: 0it [00:00, ?it/s]"
      ]
     },
     "metadata": {},
     "output_type": "display_data"
    },
    {
     "data": {
      "application/vnd.jupyter.widget-view+json": {
       "model_id": "b12e768aff944c4d980618229489854f",
       "version_major": 2,
       "version_minor": 0
      },
      "text/plain": [
       "Validation: 0it [00:00, ?it/s]"
      ]
     },
     "metadata": {},
     "output_type": "display_data"
    },
    {
     "data": {
      "application/vnd.jupyter.widget-view+json": {
       "model_id": "7dd4c2c9afe4418eab9da4876652e742",
       "version_major": 2,
       "version_minor": 0
      },
      "text/plain": [
       "Validation: 0it [00:00, ?it/s]"
      ]
     },
     "metadata": {},
     "output_type": "display_data"
    },
    {
     "data": {
      "application/vnd.jupyter.widget-view+json": {
       "model_id": "9b54ebba250a4d8aab7c3a741306d255",
       "version_major": 2,
       "version_minor": 0
      },
      "text/plain": [
       "Validation: 0it [00:00, ?it/s]"
      ]
     },
     "metadata": {},
     "output_type": "display_data"
    },
    {
     "data": {
      "application/vnd.jupyter.widget-view+json": {
       "model_id": "29be9aa69bd54831afbcc3fd715e052c",
       "version_major": 2,
       "version_minor": 0
      },
      "text/plain": [
       "Validation: 0it [00:00, ?it/s]"
      ]
     },
     "metadata": {},
     "output_type": "display_data"
    },
    {
     "data": {
      "application/vnd.jupyter.widget-view+json": {
       "model_id": "fee574bc9ea040f7aec58ab0d19eacb3",
       "version_major": 2,
       "version_minor": 0
      },
      "text/plain": [
       "Validation: 0it [00:00, ?it/s]"
      ]
     },
     "metadata": {},
     "output_type": "display_data"
    },
    {
     "data": {
      "application/vnd.jupyter.widget-view+json": {
       "model_id": "457b326253034a90bfbc76bbd7690550",
       "version_major": 2,
       "version_minor": 0
      },
      "text/plain": [
       "Validation: 0it [00:00, ?it/s]"
      ]
     },
     "metadata": {},
     "output_type": "display_data"
    },
    {
     "data": {
      "application/vnd.jupyter.widget-view+json": {
       "model_id": "f6d768fe13f3431b889e78464c1930ef",
       "version_major": 2,
       "version_minor": 0
      },
      "text/plain": [
       "Validation: 0it [00:00, ?it/s]"
      ]
     },
     "metadata": {},
     "output_type": "display_data"
    },
    {
     "data": {
      "application/vnd.jupyter.widget-view+json": {
       "model_id": "3a928952fb624faba92cc9fdd0e7df9c",
       "version_major": 2,
       "version_minor": 0
      },
      "text/plain": [
       "Validation: 0it [00:00, ?it/s]"
      ]
     },
     "metadata": {},
     "output_type": "display_data"
    },
    {
     "data": {
      "application/vnd.jupyter.widget-view+json": {
       "model_id": "fbadd3887af04f7795bfdf83c3b3b695",
       "version_major": 2,
       "version_minor": 0
      },
      "text/plain": [
       "Validation: 0it [00:00, ?it/s]"
      ]
     },
     "metadata": {},
     "output_type": "display_data"
    },
    {
     "data": {
      "application/vnd.jupyter.widget-view+json": {
       "model_id": "49b24e62bb874fc296b15464bf1d338f",
       "version_major": 2,
       "version_minor": 0
      },
      "text/plain": [
       "Validation: 0it [00:00, ?it/s]"
      ]
     },
     "metadata": {},
     "output_type": "display_data"
    },
    {
     "data": {
      "application/vnd.jupyter.widget-view+json": {
       "model_id": "a4ec856456f94457a65ab77e9de84a9d",
       "version_major": 2,
       "version_minor": 0
      },
      "text/plain": [
       "Validation: 0it [00:00, ?it/s]"
      ]
     },
     "metadata": {},
     "output_type": "display_data"
    },
    {
     "data": {
      "application/vnd.jupyter.widget-view+json": {
       "model_id": "63fbe33e59b54e058dc431df128f8a68",
       "version_major": 2,
       "version_minor": 0
      },
      "text/plain": [
       "Validation: 0it [00:00, ?it/s]"
      ]
     },
     "metadata": {},
     "output_type": "display_data"
    },
    {
     "data": {
      "application/vnd.jupyter.widget-view+json": {
       "model_id": "b505ad89e03546c1aeb5f749acffd13f",
       "version_major": 2,
       "version_minor": 0
      },
      "text/plain": [
       "Validation: 0it [00:00, ?it/s]"
      ]
     },
     "metadata": {},
     "output_type": "display_data"
    },
    {
     "data": {
      "application/vnd.jupyter.widget-view+json": {
       "model_id": "764aec75d2524adbbd506996e89c5600",
       "version_major": 2,
       "version_minor": 0
      },
      "text/plain": [
       "Validation: 0it [00:00, ?it/s]"
      ]
     },
     "metadata": {},
     "output_type": "display_data"
    },
    {
     "data": {
      "application/vnd.jupyter.widget-view+json": {
       "model_id": "ba21fdc1332f4043bbf13292ef7f60a9",
       "version_major": 2,
       "version_minor": 0
      },
      "text/plain": [
       "Validation: 0it [00:00, ?it/s]"
      ]
     },
     "metadata": {},
     "output_type": "display_data"
    },
    {
     "data": {
      "application/vnd.jupyter.widget-view+json": {
       "model_id": "f3933f1559fc43ee92b26059e37349bc",
       "version_major": 2,
       "version_minor": 0
      },
      "text/plain": [
       "Validation: 0it [00:00, ?it/s]"
      ]
     },
     "metadata": {},
     "output_type": "display_data"
    },
    {
     "data": {
      "application/vnd.jupyter.widget-view+json": {
       "model_id": "7260c6e367f64757b2080410384ec0e6",
       "version_major": 2,
       "version_minor": 0
      },
      "text/plain": [
       "Validation: 0it [00:00, ?it/s]"
      ]
     },
     "metadata": {},
     "output_type": "display_data"
    },
    {
     "data": {
      "application/vnd.jupyter.widget-view+json": {
       "model_id": "cc6bb4fd2070488a9075a372bf173192",
       "version_major": 2,
       "version_minor": 0
      },
      "text/plain": [
       "Validation: 0it [00:00, ?it/s]"
      ]
     },
     "metadata": {},
     "output_type": "display_data"
    },
    {
     "data": {
      "application/vnd.jupyter.widget-view+json": {
       "model_id": "77c004322a9240d4951bc878d7eb9ea7",
       "version_major": 2,
       "version_minor": 0
      },
      "text/plain": [
       "Validation: 0it [00:00, ?it/s]"
      ]
     },
     "metadata": {},
     "output_type": "display_data"
    },
    {
     "data": {
      "application/vnd.jupyter.widget-view+json": {
       "model_id": "d31372d977d74792a14323e622574354",
       "version_major": 2,
       "version_minor": 0
      },
      "text/plain": [
       "Validation: 0it [00:00, ?it/s]"
      ]
     },
     "metadata": {},
     "output_type": "display_data"
    },
    {
     "data": {
      "application/vnd.jupyter.widget-view+json": {
       "model_id": "1c121253638e4c96a40f7b384194e2d8",
       "version_major": 2,
       "version_minor": 0
      },
      "text/plain": [
       "Validation: 0it [00:00, ?it/s]"
      ]
     },
     "metadata": {},
     "output_type": "display_data"
    },
    {
     "data": {
      "application/vnd.jupyter.widget-view+json": {
       "model_id": "93179cedf348431b9dd541d136ec62bc",
       "version_major": 2,
       "version_minor": 0
      },
      "text/plain": [
       "Validation: 0it [00:00, ?it/s]"
      ]
     },
     "metadata": {},
     "output_type": "display_data"
    },
    {
     "data": {
      "application/vnd.jupyter.widget-view+json": {
       "model_id": "18df4fb3a4db4f8ca1e2b0660131c8b0",
       "version_major": 2,
       "version_minor": 0
      },
      "text/plain": [
       "Validation: 0it [00:00, ?it/s]"
      ]
     },
     "metadata": {},
     "output_type": "display_data"
    },
    {
     "data": {
      "application/vnd.jupyter.widget-view+json": {
       "model_id": "8c74ce10a479466395edbb0e0a233b17",
       "version_major": 2,
       "version_minor": 0
      },
      "text/plain": [
       "Validation: 0it [00:00, ?it/s]"
      ]
     },
     "metadata": {},
     "output_type": "display_data"
    },
    {
     "data": {
      "application/vnd.jupyter.widget-view+json": {
       "model_id": "0919d3ef9a78480ca56821e98395433e",
       "version_major": 2,
       "version_minor": 0
      },
      "text/plain": [
       "Validation: 0it [00:00, ?it/s]"
      ]
     },
     "metadata": {},
     "output_type": "display_data"
    },
    {
     "data": {
      "application/vnd.jupyter.widget-view+json": {
       "model_id": "0d900ff42e5a41d6814377f43e86d008",
       "version_major": 2,
       "version_minor": 0
      },
      "text/plain": [
       "Validation: 0it [00:00, ?it/s]"
      ]
     },
     "metadata": {},
     "output_type": "display_data"
    },
    {
     "data": {
      "application/vnd.jupyter.widget-view+json": {
       "model_id": "a742d656a6e54806b91b25b2371cca07",
       "version_major": 2,
       "version_minor": 0
      },
      "text/plain": [
       "Validation: 0it [00:00, ?it/s]"
      ]
     },
     "metadata": {},
     "output_type": "display_data"
    },
    {
     "data": {
      "application/vnd.jupyter.widget-view+json": {
       "model_id": "75055811d75e42588fcfcb962f4c207c",
       "version_major": 2,
       "version_minor": 0
      },
      "text/plain": [
       "Validation: 0it [00:00, ?it/s]"
      ]
     },
     "metadata": {},
     "output_type": "display_data"
    },
    {
     "data": {
      "application/vnd.jupyter.widget-view+json": {
       "model_id": "1cf3ac46119c4b88ad4055415bd51384",
       "version_major": 2,
       "version_minor": 0
      },
      "text/plain": [
       "Validation: 0it [00:00, ?it/s]"
      ]
     },
     "metadata": {},
     "output_type": "display_data"
    },
    {
     "data": {
      "application/vnd.jupyter.widget-view+json": {
       "model_id": "285c38a9e4c04399831c4f6f68b1dcb1",
       "version_major": 2,
       "version_minor": 0
      },
      "text/plain": [
       "Validation: 0it [00:00, ?it/s]"
      ]
     },
     "metadata": {},
     "output_type": "display_data"
    },
    {
     "data": {
      "application/vnd.jupyter.widget-view+json": {
       "model_id": "3bf89215b3394ac487bce550ee9fa02a",
       "version_major": 2,
       "version_minor": 0
      },
      "text/plain": [
       "Validation: 0it [00:00, ?it/s]"
      ]
     },
     "metadata": {},
     "output_type": "display_data"
    },
    {
     "data": {
      "application/vnd.jupyter.widget-view+json": {
       "model_id": "c98b7c16ff5247d6bb9714a2a89d83b8",
       "version_major": 2,
       "version_minor": 0
      },
      "text/plain": [
       "Validation: 0it [00:00, ?it/s]"
      ]
     },
     "metadata": {},
     "output_type": "display_data"
    },
    {
     "data": {
      "application/vnd.jupyter.widget-view+json": {
       "model_id": "80faf5a7741f4b8ca23640d001bc23cb",
       "version_major": 2,
       "version_minor": 0
      },
      "text/plain": [
       "Validation: 0it [00:00, ?it/s]"
      ]
     },
     "metadata": {},
     "output_type": "display_data"
    },
    {
     "data": {
      "application/vnd.jupyter.widget-view+json": {
       "model_id": "8b5ddf6b0c3a45868ccb569ba617d8f3",
       "version_major": 2,
       "version_minor": 0
      },
      "text/plain": [
       "Validation: 0it [00:00, ?it/s]"
      ]
     },
     "metadata": {},
     "output_type": "display_data"
    },
    {
     "data": {
      "application/vnd.jupyter.widget-view+json": {
       "model_id": "513e182f4e0a4019b4e4299cd92d1e88",
       "version_major": 2,
       "version_minor": 0
      },
      "text/plain": [
       "Validation: 0it [00:00, ?it/s]"
      ]
     },
     "metadata": {},
     "output_type": "display_data"
    },
    {
     "data": {
      "application/vnd.jupyter.widget-view+json": {
       "model_id": "b22e313646da4590b995c4be037715f6",
       "version_major": 2,
       "version_minor": 0
      },
      "text/plain": [
       "Validation: 0it [00:00, ?it/s]"
      ]
     },
     "metadata": {},
     "output_type": "display_data"
    },
    {
     "data": {
      "application/vnd.jupyter.widget-view+json": {
       "model_id": "6d82c2810cdd4f8ab3e93c68de699553",
       "version_major": 2,
       "version_minor": 0
      },
      "text/plain": [
       "Validation: 0it [00:00, ?it/s]"
      ]
     },
     "metadata": {},
     "output_type": "display_data"
    },
    {
     "data": {
      "application/vnd.jupyter.widget-view+json": {
       "model_id": "71ad116d102745fba72e2874cf5e06eb",
       "version_major": 2,
       "version_minor": 0
      },
      "text/plain": [
       "Validation: 0it [00:00, ?it/s]"
      ]
     },
     "metadata": {},
     "output_type": "display_data"
    },
    {
     "data": {
      "application/vnd.jupyter.widget-view+json": {
       "model_id": "022915d293a74ca2b29771991ecc678b",
       "version_major": 2,
       "version_minor": 0
      },
      "text/plain": [
       "Validation: 0it [00:00, ?it/s]"
      ]
     },
     "metadata": {},
     "output_type": "display_data"
    },
    {
     "data": {
      "application/vnd.jupyter.widget-view+json": {
       "model_id": "70188fa3b7cf42779c9297e2bf016367",
       "version_major": 2,
       "version_minor": 0
      },
      "text/plain": [
       "Validation: 0it [00:00, ?it/s]"
      ]
     },
     "metadata": {},
     "output_type": "display_data"
    },
    {
     "data": {
      "application/vnd.jupyter.widget-view+json": {
       "model_id": "1eeb979be4a647f39c3444691f28ebd3",
       "version_major": 2,
       "version_minor": 0
      },
      "text/plain": [
       "Validation: 0it [00:00, ?it/s]"
      ]
     },
     "metadata": {},
     "output_type": "display_data"
    },
    {
     "data": {
      "application/vnd.jupyter.widget-view+json": {
       "model_id": "3db34c2fb9624608b385d152f5ce53eb",
       "version_major": 2,
       "version_minor": 0
      },
      "text/plain": [
       "Validation: 0it [00:00, ?it/s]"
      ]
     },
     "metadata": {},
     "output_type": "display_data"
    },
    {
     "data": {
      "application/vnd.jupyter.widget-view+json": {
       "model_id": "d52b661c10f74815a304b3843e2bc948",
       "version_major": 2,
       "version_minor": 0
      },
      "text/plain": [
       "Validation: 0it [00:00, ?it/s]"
      ]
     },
     "metadata": {},
     "output_type": "display_data"
    },
    {
     "data": {
      "application/vnd.jupyter.widget-view+json": {
       "model_id": "367f235c66a2406abea5e683610bce6a",
       "version_major": 2,
       "version_minor": 0
      },
      "text/plain": [
       "Validation: 0it [00:00, ?it/s]"
      ]
     },
     "metadata": {},
     "output_type": "display_data"
    },
    {
     "data": {
      "application/vnd.jupyter.widget-view+json": {
       "model_id": "df14df2dea16409da849964b20c74962",
       "version_major": 2,
       "version_minor": 0
      },
      "text/plain": [
       "Validation: 0it [00:00, ?it/s]"
      ]
     },
     "metadata": {},
     "output_type": "display_data"
    },
    {
     "data": {
      "application/vnd.jupyter.widget-view+json": {
       "model_id": "a0b490b7ed7d4de09a1231652f028088",
       "version_major": 2,
       "version_minor": 0
      },
      "text/plain": [
       "Validation: 0it [00:00, ?it/s]"
      ]
     },
     "metadata": {},
     "output_type": "display_data"
    },
    {
     "data": {
      "application/vnd.jupyter.widget-view+json": {
       "model_id": "9fd275d8e72b40bcba434af55636ae26",
       "version_major": 2,
       "version_minor": 0
      },
      "text/plain": [
       "Validation: 0it [00:00, ?it/s]"
      ]
     },
     "metadata": {},
     "output_type": "display_data"
    },
    {
     "data": {
      "application/vnd.jupyter.widget-view+json": {
       "model_id": "c3202f2cae854a60b01b61ffa8a98d27",
       "version_major": 2,
       "version_minor": 0
      },
      "text/plain": [
       "Validation: 0it [00:00, ?it/s]"
      ]
     },
     "metadata": {},
     "output_type": "display_data"
    },
    {
     "data": {
      "application/vnd.jupyter.widget-view+json": {
       "model_id": "d0ff20cbf79a40dfb1ac161280305bef",
       "version_major": 2,
       "version_minor": 0
      },
      "text/plain": [
       "Validation: 0it [00:00, ?it/s]"
      ]
     },
     "metadata": {},
     "output_type": "display_data"
    },
    {
     "data": {
      "application/vnd.jupyter.widget-view+json": {
       "model_id": "b5812405aa98487cacbc2da69cd2813f",
       "version_major": 2,
       "version_minor": 0
      },
      "text/plain": [
       "Validation: 0it [00:00, ?it/s]"
      ]
     },
     "metadata": {},
     "output_type": "display_data"
    },
    {
     "data": {
      "application/vnd.jupyter.widget-view+json": {
       "model_id": "a6529485a517412584a875258a2d9e84",
       "version_major": 2,
       "version_minor": 0
      },
      "text/plain": [
       "Validation: 0it [00:00, ?it/s]"
      ]
     },
     "metadata": {},
     "output_type": "display_data"
    },
    {
     "data": {
      "application/vnd.jupyter.widget-view+json": {
       "model_id": "9cb6faab90fa497cb9a32c504636d145",
       "version_major": 2,
       "version_minor": 0
      },
      "text/plain": [
       "Validation: 0it [00:00, ?it/s]"
      ]
     },
     "metadata": {},
     "output_type": "display_data"
    },
    {
     "data": {
      "application/vnd.jupyter.widget-view+json": {
       "model_id": "69e62feab13a4cf9b00eb1e0f75e9e48",
       "version_major": 2,
       "version_minor": 0
      },
      "text/plain": [
       "Validation: 0it [00:00, ?it/s]"
      ]
     },
     "metadata": {},
     "output_type": "display_data"
    },
    {
     "data": {
      "application/vnd.jupyter.widget-view+json": {
       "model_id": "03adf497ddae4b698ad7ef847cd2890b",
       "version_major": 2,
       "version_minor": 0
      },
      "text/plain": [
       "Validation: 0it [00:00, ?it/s]"
      ]
     },
     "metadata": {},
     "output_type": "display_data"
    },
    {
     "data": {
      "application/vnd.jupyter.widget-view+json": {
       "model_id": "d67c98d3744743d68c63a851375ee1b9",
       "version_major": 2,
       "version_minor": 0
      },
      "text/plain": [
       "Validation: 0it [00:00, ?it/s]"
      ]
     },
     "metadata": {},
     "output_type": "display_data"
    },
    {
     "data": {
      "application/vnd.jupyter.widget-view+json": {
       "model_id": "9c846d8c06e146acb76d634a2a2c8029",
       "version_major": 2,
       "version_minor": 0
      },
      "text/plain": [
       "Validation: 0it [00:00, ?it/s]"
      ]
     },
     "metadata": {},
     "output_type": "display_data"
    },
    {
     "data": {
      "application/vnd.jupyter.widget-view+json": {
       "model_id": "582b613c31dc4c8baaad4dc79a5ab62b",
       "version_major": 2,
       "version_minor": 0
      },
      "text/plain": [
       "Validation: 0it [00:00, ?it/s]"
      ]
     },
     "metadata": {},
     "output_type": "display_data"
    },
    {
     "data": {
      "application/vnd.jupyter.widget-view+json": {
       "model_id": "9adc5d6cbd204fbca406bfb3c5bd4358",
       "version_major": 2,
       "version_minor": 0
      },
      "text/plain": [
       "Validation: 0it [00:00, ?it/s]"
      ]
     },
     "metadata": {},
     "output_type": "display_data"
    },
    {
     "data": {
      "application/vnd.jupyter.widget-view+json": {
       "model_id": "348ebf4fe1dc43b898d0afccb2e6f86b",
       "version_major": 2,
       "version_minor": 0
      },
      "text/plain": [
       "Validation: 0it [00:00, ?it/s]"
      ]
     },
     "metadata": {},
     "output_type": "display_data"
    },
    {
     "data": {
      "application/vnd.jupyter.widget-view+json": {
       "model_id": "358c638e8dc249a89c7c161d90724657",
       "version_major": 2,
       "version_minor": 0
      },
      "text/plain": [
       "Validation: 0it [00:00, ?it/s]"
      ]
     },
     "metadata": {},
     "output_type": "display_data"
    },
    {
     "data": {
      "application/vnd.jupyter.widget-view+json": {
       "model_id": "609c406e67474acb90ce75158cc0d5ca",
       "version_major": 2,
       "version_minor": 0
      },
      "text/plain": [
       "Validation: 0it [00:00, ?it/s]"
      ]
     },
     "metadata": {},
     "output_type": "display_data"
    },
    {
     "data": {
      "application/vnd.jupyter.widget-view+json": {
       "model_id": "596323be51fc40bc977acb59b66eae94",
       "version_major": 2,
       "version_minor": 0
      },
      "text/plain": [
       "Validation: 0it [00:00, ?it/s]"
      ]
     },
     "metadata": {},
     "output_type": "display_data"
    },
    {
     "data": {
      "application/vnd.jupyter.widget-view+json": {
       "model_id": "c01b9cf4ab0a4e50a8ef5d26dd9e686f",
       "version_major": 2,
       "version_minor": 0
      },
      "text/plain": [
       "Validation: 0it [00:00, ?it/s]"
      ]
     },
     "metadata": {},
     "output_type": "display_data"
    },
    {
     "data": {
      "application/vnd.jupyter.widget-view+json": {
       "model_id": "9e425227912745f79987602e3c6da3fc",
       "version_major": 2,
       "version_minor": 0
      },
      "text/plain": [
       "Validation: 0it [00:00, ?it/s]"
      ]
     },
     "metadata": {},
     "output_type": "display_data"
    },
    {
     "data": {
      "application/vnd.jupyter.widget-view+json": {
       "model_id": "fed0c46f50ab41d38dfa06cdf9a17dad",
       "version_major": 2,
       "version_minor": 0
      },
      "text/plain": [
       "Validation: 0it [00:00, ?it/s]"
      ]
     },
     "metadata": {},
     "output_type": "display_data"
    },
    {
     "data": {
      "application/vnd.jupyter.widget-view+json": {
       "model_id": "bb6c9e65dc944744a5067e806d9a7d1c",
       "version_major": 2,
       "version_minor": 0
      },
      "text/plain": [
       "Validation: 0it [00:00, ?it/s]"
      ]
     },
     "metadata": {},
     "output_type": "display_data"
    },
    {
     "data": {
      "application/vnd.jupyter.widget-view+json": {
       "model_id": "429770d7b005403fb72741346865924f",
       "version_major": 2,
       "version_minor": 0
      },
      "text/plain": [
       "Validation: 0it [00:00, ?it/s]"
      ]
     },
     "metadata": {},
     "output_type": "display_data"
    },
    {
     "data": {
      "application/vnd.jupyter.widget-view+json": {
       "model_id": "bab0d209b47d4ead95d8e8b0dc37dfa8",
       "version_major": 2,
       "version_minor": 0
      },
      "text/plain": [
       "Validation: 0it [00:00, ?it/s]"
      ]
     },
     "metadata": {},
     "output_type": "display_data"
    },
    {
     "data": {
      "application/vnd.jupyter.widget-view+json": {
       "model_id": "45460ea47bfa4d98b74c4688cc3226dc",
       "version_major": 2,
       "version_minor": 0
      },
      "text/plain": [
       "Validation: 0it [00:00, ?it/s]"
      ]
     },
     "metadata": {},
     "output_type": "display_data"
    },
    {
     "data": {
      "application/vnd.jupyter.widget-view+json": {
       "model_id": "af807064c36d43bdbe512827a46c5bd5",
       "version_major": 2,
       "version_minor": 0
      },
      "text/plain": [
       "Validation: 0it [00:00, ?it/s]"
      ]
     },
     "metadata": {},
     "output_type": "display_data"
    },
    {
     "data": {
      "application/vnd.jupyter.widget-view+json": {
       "model_id": "45fa1f64ba50450aae72c77c997613e3",
       "version_major": 2,
       "version_minor": 0
      },
      "text/plain": [
       "Validation: 0it [00:00, ?it/s]"
      ]
     },
     "metadata": {},
     "output_type": "display_data"
    },
    {
     "data": {
      "application/vnd.jupyter.widget-view+json": {
       "model_id": "b9bbc1c3ebef4367a401f8f245039e0e",
       "version_major": 2,
       "version_minor": 0
      },
      "text/plain": [
       "Validation: 0it [00:00, ?it/s]"
      ]
     },
     "metadata": {},
     "output_type": "display_data"
    },
    {
     "data": {
      "application/vnd.jupyter.widget-view+json": {
       "model_id": "7d8b76e9613848c188d7c6f762bd0e60",
       "version_major": 2,
       "version_minor": 0
      },
      "text/plain": [
       "Validation: 0it [00:00, ?it/s]"
      ]
     },
     "metadata": {},
     "output_type": "display_data"
    },
    {
     "data": {
      "application/vnd.jupyter.widget-view+json": {
       "model_id": "5905db38dfca4e7b91c83f07868b6780",
       "version_major": 2,
       "version_minor": 0
      },
      "text/plain": [
       "Validation: 0it [00:00, ?it/s]"
      ]
     },
     "metadata": {},
     "output_type": "display_data"
    },
    {
     "data": {
      "application/vnd.jupyter.widget-view+json": {
       "model_id": "4541554b373b42778def1ec0244fc350",
       "version_major": 2,
       "version_minor": 0
      },
      "text/plain": [
       "Validation: 0it [00:00, ?it/s]"
      ]
     },
     "metadata": {},
     "output_type": "display_data"
    },
    {
     "data": {
      "application/vnd.jupyter.widget-view+json": {
       "model_id": "929e9dde1ea347749b0315a61030376f",
       "version_major": 2,
       "version_minor": 0
      },
      "text/plain": [
       "Validation: 0it [00:00, ?it/s]"
      ]
     },
     "metadata": {},
     "output_type": "display_data"
    },
    {
     "name": "stderr",
     "output_type": "stream",
     "text": [
      "`Trainer.fit` stopped: `max_epochs=100` reached.\n"
     ]
    }
   ],
   "source": [
    "from pytorch_lightning import callbacks\n",
    "from torch.utils import data\n",
    "import os\n",
    "\n",
    "ckpt_callback = callbacks.ModelCheckpoint('./model/gru', \n",
    "                                          filename='gru-autoregress-{val_loss:.2f}-{epoch}.ckpt',\n",
    "                                          monitor='val_loss',\n",
    "                                          mode='min',\n",
    "                                          save_top_k=2)\n",
    "\n",
    "model = GRUAutoregress(10)\n",
    "train_dataset, val_dataset =  data.random_split(dataset, [0.9, 0.1])\n",
    "\n",
    "train_loader = data.DataLoader(train_dataset, batch_size=10, num_workers=os.cpu_count())\n",
    "val_loader = data.DataLoader(val_dataset, batch_size=10, num_workers=os.cpu_count())\n",
    "\n",
    "trainer = pl.Trainer(accelerator=\"gpu\", callbacks=[ckpt_callback], max_epochs=100)\n",
    "trainer.fit(model, train_dataloaders=train_loader, val_dataloaders=val_loader)"
   ]
  },
  {
   "cell_type": "code",
   "execution_count": 8,
   "metadata": {},
   "outputs": [
    {
     "name": "stderr",
     "output_type": "stream",
     "text": [
      "1990it [00:00, 263634.40it/s]           \n",
      "1990it [00:55, 35.84it/s]                          \n",
      "1990it [01:58, 16.84it/s]                          \n",
      "1990it [02:58, 11.13it/s]                          \n"
     ]
    }
   ],
   "source": [
    "import os\n",
    "from torch.utils import data\n",
    "import pytorch_lightning as pl\n",
    "from tqdm import tqdm\n",
    "\n",
    "\n",
    "\n",
    "\n",
    "model = GRUAutoregress.load_from_checkpoint('./model/gru/gru-autoregress-val_loss=0.00-epoch=99.ckpt-v2.ckpt')\n",
    "model = model.to(torch.device(\"cpu\"))\n",
    "\n",
    "# result = trainer.test(model=model, dataloaders=data_loader)\n",
    "\n",
    "def k_step_eval(model: pl.LightningModule, dataset: data.Dataset, k: int):\n",
    "    pred = []\n",
    "    model.eval()\n",
    "    for X, y in tqdm(dataset):\n",
    "        y_hat = y\n",
    "        for step in range(k):\n",
    "            assert(isinstance(X, torch.Tensor))\n",
    "            assert(isinstance(y, torch.Tensor))\n",
    "            y_hat = model(X.unsqueeze(0)).squeeze(0)\n",
    "            X = torch.cat([X, y_hat])[1:]\n",
    "        pred.append(y_hat.item())\n",
    "    return pred\n",
    "            \n",
    "        \n",
    "\n",
    "preds = [k_step_eval(model=model, dataset=dataset, k=k) for k in range(0, 200, 50)]\n",
    "\n",
    "    "
   ]
  },
  {
   "cell_type": "code",
   "execution_count": 9,
   "metadata": {},
   "outputs": [
    {
     "data": {
      "image/png": "[encoded data removed]",
      "text/plain": [
       "<Figure size 640x480 with 1 Axes>"
      ]
     },
     "metadata": {},
     "output_type": "display_data"
    }
   ],
   "source": [
    "from matplotlib import pyplot as plt\n",
    "from torch.nn import functional as F\n",
    "\n",
    "def draw_comparison_chart(predicts:list, ref_idx: int = 0):\n",
    "    predict_tensors = [torch.Tensor(pred) for pred in preds]\n",
    "    fig = plt.figure()\n",
    "    for idx, pred in enumerate(predict_tensors):\n",
    "        loss = F.mse_loss(pred, predict_tensors[0])\n",
    "        plt.plot(pred, label=f\"{idx} loss {loss}\")\n",
    "    plt.legend()\n",
    "    plt.show()\n",
    "    \n",
    "draw_comparison_chart(preds, 0)"
   ]
  }
 ],
 "metadata": {
  "kernelspec": {
   "display_name": "directml",
   "language": "python",
   "name": "python3"
  },
  "language_info": {
   "codemirror_mode": {
    "name": "ipython",
    "version": 3
   },
   "file_extension": ".py",
   "mimetype": "text/x-python",
   "name": "python",
   "nbconvert_exporter": "python",
   "pygments_lexer": "ipython3",
   "version": "3.10.8"
  },
  "orig_nbformat": 4,
  "vscode": {
   "interpreter": {
    "hash": "edb556f56090483d5667fc1805cce521f8e848c88548a616016dff11d20e0bca"
   }
  }
 },
 "nbformat": 4,
 "nbformat_minor": 2
}
