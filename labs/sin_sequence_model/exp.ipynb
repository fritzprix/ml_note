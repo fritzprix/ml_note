{
 "cells": [
  {
   "attachments": {},
   "cell_type": "markdown",
   "metadata": {},
   "source": [
    "# Autoregression Performance FFN vs RNN\n",
    "> 일반적으로 FFN은 입력의 순차적 종속성을 modeling하는데 한계가 있어 autoregressive task에서 취약점을 가지고 있다. 반면 GRU 등의 RNN계열의 모델은 hidden state를 통해 step window 이전의 sequence에 대한 summary 정보를 활용할 수 있으며 GRU의 경우 추가로 gating mechanism을 가지고 있어 보다 long term 의존성에 강건한 특성을 갖는 것으로 알려져 있다. 이를 몇 가지 경우에 적용하여 FFN과 GRU가 보이는 특성의 경향을 살펴보고 예외적인 경우 그리고 실제 적용 시 유용할 수 있는 Implication을 정리할 예정\n",
    "\n",
    "\n",
    "## 1. 단순한 주기성을 갖는 Sinusoidal Input에 대한 비교 실험\n",
    "- Sinusoidal time series의 경우 매우 단순한 주기성을 갖고 있기 때문에 long term dependency를 다룰 수 없는 FFN로도 충분한 성능을 얻을 수 있을 것으로 예상된다. 이를 확인하기 위해 1 cycle의 sin timeseries 입력을 생성하여 학습 시키고 prediction의 step을 증가시키며 발생되는 error의 누적의 영향, step window의 fractional length (e.g. 1 / 100일 경우 전체 입력 sample이 1000개일 때 10)의 변화에 따라 어떻게 영향을 받는 지 등을 실험해 보고자 한다. \n",
    "\n",
    "- 유사한 규모의 FFN / RNN (GRU)\n",
    "  - FNN 3개의 Hidden Layer를 갖는 FFN를 구성 ReLU를 Activation으로 사용하여 아래와 같이 구성\n",
    "  - FNN Model (1.5K parameters)\n",
    "  \n",
    "```\n",
    "(net): Sequential(\n",
    "  (0): Linear(in_features=10, out_features=20, bias=True)\n",
    "  (1): ReLU()\n",
    "  (2): Sequential(\n",
    "    (0): Linear(in_features=20, out_features=20, bias=True)\n",
    "    (1): ReLU()\n",
    "  )\n",
    "  (3): Sequential(\n",
    "    (0): Linear(in_features=20, out_features=20, bias=True)\n",
    "    (1): ReLU()\n",
    "  )\n",
    "  (4): Sequential(\n",
    "    (0): Linear(in_features=20, out_features=20, bias=True)\n",
    "    (1): ReLU()\n",
    "  )\n",
    "  (5): Linear(in_features=20, out_features=1, bias=True)\n",
    ")\n",
    "```\n",
    "- RNN Model (1.8K parameters)\n",
    "```\n",
    "(model): Sequential(\n",
    "    (0): GRU(1, 10, num_layers=3, batch_first=True)\n",
    "    (1): SelectItem()\n",
    "    (2): Flatten(start_dim=1, end_dim=-1)\n",
    "    (3): Linear(in_features=100, out_features=1, bias=True)\n",
    "  )\n",
    "```\n",
    "\n"
   ]
  },
  {
   "cell_type": "code",
   "execution_count": 1,
   "metadata": {},
   "outputs": [
    {
     "name": "stderr",
     "output_type": "stream",
     "text": [
      "GPU available: True (cuda), used: True\n",
      "TPU available: False, using: 0 TPU cores\n",
      "IPU available: False, using: 0 IPUs\n",
      "HPU available: False, using: 0 HPUs\n"
     ]
    },
    {
     "name": "stdout",
     "output_type": "stream",
     "text": [
      "FFN parameters : 1690\n",
      "RNN parameters : 1721\n"
     ]
    },
    {
     "name": "stderr",
     "output_type": "stream",
     "text": [
      "LOCAL_RANK: 0 - CUDA_VISIBLE_DEVICES: [0]\n",
      "/home/fritzprix/miniconda3/envs/directml/lib/python3.10/site-packages/pytorch_lightning/trainer/connectors/data_connector.py:224: PossibleUserWarning: The dataloader, test_dataloader 0, does not have many workers which may be a bottleneck. Consider increasing the value of the `num_workers` argument` (try 16 which is the number of cpus on this machine) in the `DataLoader` init to improve performance.\n",
      "  rank_zero_warn(\n"
     ]
    },
    {
     "data": {
      "application/vnd.jupyter.widget-view+json": {
       "model_id": "786b9463869c4b1482b8a706fa32b1b6",
       "version_major": 2,
       "version_minor": 0
      },
      "text/plain": [
       "Testing: 0it [00:00, ?it/s]"
      ]
     },
     "metadata": {},
     "output_type": "display_data"
    },
    {
     "name": "stderr",
     "output_type": "stream",
     "text": [
      "LOCAL_RANK: 0 - CUDA_VISIBLE_DEVICES: [0]\n"
     ]
    },
    {
     "name": "stdout",
     "output_type": "stream",
     "text": [
      "────────────────────────────────────────────────────────────────────────────────────────────────────────────────────────\n",
      "       Test metric             DataLoader 0\n",
      "────────────────────────────────────────────────────────────────────────────────────────────────────────────────────────\n",
      "        test_loss         1.2969425370101817e-05\n",
      "────────────────────────────────────────────────────────────────────────────────────────────────────────────────────────\n"
     ]
    },
    {
     "data": {
      "application/vnd.jupyter.widget-view+json": {
       "model_id": "5fd558c0ab814bd1bcba5e653833a350",
       "version_major": 2,
       "version_minor": 0
      },
      "text/plain": [
       "Testing: 0it [00:00, ?it/s]"
      ]
     },
     "metadata": {},
     "output_type": "display_data"
    },
    {
     "name": "stdout",
     "output_type": "stream",
     "text": [
      "────────────────────────────────────────────────────────────────────────────────────────────────────────────────────────\n",
      "       Test metric             DataLoader 0\n",
      "────────────────────────────────────────────────────────────────────────────────────────────────────────────────────────\n",
      "        test_loss          1.194695300910098e-06\n",
      "────────────────────────────────────────────────────────────────────────────────────────────────────────────────────────\n"
     ]
    },
    {
     "data": {
      "text/plain": [
       "[{'test_loss': 1.194695300910098e-06}]"
      ]
     },
     "execution_count": 1,
     "metadata": {},
     "output_type": "execute_result"
    }
   ],
   "source": [
    "from model import FFNAutoregressor, GRUAutoregress, SinusoidalTimeSeries\n",
    "import pytorch_lightning as pl\n",
    "from torch.utils import data\n",
    "\n",
    "\n",
    "\n",
    "ffn_model = FFNAutoregressor.load_from_checkpoint('./model/ffn/model.ckpt')\n",
    "gru_model = GRUAutoregress.load_from_checkpoint('./model/gru/model.ckpt')\n",
    "\n",
    "def total_param(model: pl.LightningModule):\n",
    "    return sum(p.numel() for p in model.parameters())\n",
    "\n",
    "print(f\"FFN parameters : {total_param(ffn_model)}\")\n",
    "print(f\"RNN parameters : {total_param(gru_model)}\")\n",
    "\n",
    "\n",
    "dataset = SinusoidalTimeSeries(0, n_samples=4000)\n",
    "trainer = pl.Trainer(accelerator=\"gpu\")\n",
    "trainer.test(ffn_model, dataloaders=data.DataLoader(dataset=dataset, batch_size=50))\n",
    "trainer.test(gru_model, dataloaders=data.DataLoader(dataset=dataset, batch_size=50))\n"
   ]
  },
  {
   "cell_type": "code",
   "execution_count": 38,
   "metadata": {},
   "outputs": [
    {
     "name": "stderr",
     "output_type": "stream",
     "text": [
      "100%|██████████| 80/80 [00:00<00:00, 535.55it/s]\n",
      "100%|██████████| 80/80 [00:00<00:00, 725.75it/s]\n",
      "100%|██████████| 80/80 [00:00<00:00, 266.90it/s]\n",
      "100%|██████████| 80/80 [00:00<00:00, 255.82it/s]\n",
      "100%|██████████| 80/80 [00:00<00:00, 280.92it/s]\n",
      "100%|██████████| 80/80 [00:00<00:00, 256.41it/s]\n",
      "100%|██████████| 80/80 [00:00<00:00, 204.11it/s]\n",
      "100%|██████████| 80/80 [00:00<00:00, 2119.41it/s]\n",
      "100%|██████████| 80/80 [00:00<00:00, 938.12it/s]\n",
      "100%|██████████| 80/80 [00:00<00:00, 528.57it/s]\n",
      "100%|██████████| 80/80 [00:00<00:00, 359.64it/s]\n",
      "100%|██████████| 80/80 [00:00<00:00, 295.47it/s]\n",
      "100%|██████████| 80/80 [00:00<00:00, 248.77it/s]\n"
     ]
    }
   ],
   "source": [
    "import utils\n",
    "from model import SinusoidalTimeSeries\n",
    "import train\n",
    "import os\n",
    "import torch\n",
    "\n",
    "dataset = SinusoidalTimeSeries(0, n_samples=4000)\n",
    "k_sweep = range(0, 30, 5)\n",
    "device = torch.device('cuda')\n",
    "batch_size = 50\n",
    "\n",
    "reference = utils.predict_k_step_ahead(gru_model,dataset, batch_size=batch_size, device=device, ahead_step=0)\n",
    "gru_preds = utils.sweep_kahead_pred(gru_model, dataset, k_sweep=k_sweep, device=device, batch_size=batch_size)\n",
    "ffn_preds = utils.sweep_kahead_pred(ffn_model, dataset, k_sweep=k_sweep, device=device, batch_size=batch_size)\n",
    "\n"
   ]
  },
  {
   "cell_type": "code",
   "execution_count": 40,
   "metadata": {},
   "outputs": [
    {
     "data": {
      "image/png": "[encoded data removed]",
      "text/plain": [
       "<Figure size 640x480 with 1 Axes>"
      ]
     },
     "metadata": {},
     "output_type": "display_data"
    },
    {
     "name": "stdout",
     "output_type": "stream",
     "text": [
      "FFN Loss grow : 9.885105168406685\n",
      "GRU Loss grow : 529094.8177411333\n"
     ]
    }
   ],
   "source": [
    "import utils\n",
    "from torch.nn import functional as F\n",
    "from matplotlib import pyplot as plt\n",
    "import numpy as np\n",
    "\n",
    "\n",
    "gru_losses = [F.mse_loss(pred, reference).cpu().detach().item() for pred in gru_preds]\n",
    "ffn_losses = [F.mse_loss(pred, reference).cpu().detach().item() for pred in ffn_preds]\n",
    "\n",
    "x = np.array(k_sweep)\n",
    "plt.bar(x, gru_losses, color='r', width=3, label='GRU losses')\n",
    "plt.bar(x + 3, ffn_losses, color='b', width=3, label='FFN losses')\n",
    "plt.xlabel('prediction offset')\n",
    "plt.ylabel('MSE loss')\n",
    "plt.legend()\n",
    "plt.yscale('log')\n",
    "plt.show()\n",
    "\n",
    "print(f\"FFN Loss grow : {ffn_losses[-1] / ffn_losses[1]}\")\n",
    "print(f\"GRU Loss grow : {gru_losses[-1] / gru_losses[1]}\")\n"
   ]
  },
  {
   "attachments": {},
   "cell_type": "markdown",
   "metadata": {},
   "source": [
    "## N-Step Prediction Sweep Test\n",
    "\n",
    "> 예측 Step의 길이를 100 ~ 400까지 증가 시키면서 성능의 열화가 발생하는 정도는 RNN이 FFN보다 우위의 성능을 보였다. 다만 prediction step이 커질 수록 GRU가 loss 열화가 더 가속화 되는 측면이 있었다. (Why?)"
   ]
  },
  {
   "attachments": {},
   "cell_type": "markdown",
   "metadata": {},
   "source": [
    "- Step 1 prediction의 결과 거의 0에 수렴하는 mse loss값을 보임\n",
    "- prediction step을 증가 시킬 때 오차가 얼마나 증가하는지 테스트"
   ]
  }
 ],
 "metadata": {
  "kernelspec": {
   "display_name": "directml",
   "language": "python",
   "name": "python3"
  },
  "language_info": {
   "codemirror_mode": {
    "name": "ipython",
    "version": 3
   },
   "file_extension": ".py",
   "mimetype": "text/x-python",
   "name": "python",
   "nbconvert_exporter": "python",
   "pygments_lexer": "ipython3",
   "version": "3.10.8"
  },
  "orig_nbformat": 4,
  "vscode": {
   "interpreter": {
    "hash": "edb556f56090483d5667fc1805cce521f8e848c88548a616016dff11d20e0bca"
   }
  }
 },
 "nbformat": 4,
 "nbformat_minor": 2
}
