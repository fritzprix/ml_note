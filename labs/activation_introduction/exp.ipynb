{
 "cells": [
  {
   "cell_type": "code",
   "execution_count": 26,
   "metadata": {},
   "outputs": [],
   "source": [
    "import torch\n",
    "import pytorch_lightning as pl\n",
    "from torch import nn\n",
    "from torchmetrics import Accuracy\n",
    "\n",
    "\n",
    "\n",
    "class LinearNetwork(pl.LightningModule):\n",
    "    def __init__(self, input_features, output_features, lr):\n",
    "        super().__init__()\n",
    "        barrel_size = input_features * 4\n",
    "        self.lr = lr\n",
    "        self.model = nn.Sequential(\n",
    "            nn.Linear(input_features, barrel_size),\n",
    "            nn.Linear(barrel_size, barrel_size),\n",
    "            nn.Linear(barrel_size, output_features)\n",
    "        )\n",
    "        \n",
    "        self.loss = nn.CrossEntropyLoss()\n",
    "        self.accuracy = Accuracy(task='multiclass', num_classes=2)\n",
    "\n",
    "    def configure_optimizers(self):\n",
    "        return torch.optim.Adam(self.parameters(), lr=self.lr)\n",
    "        \n",
    "    def forward(self, X):\n",
    "        return self.model(X)\n",
    "    \n",
    "    def training_step(self, batch, batch_idx) -> torch.Tensor:\n",
    "        X, y = batch\n",
    "        y_hat = self.model(X)\n",
    "        loss = self.loss(y_hat, y)\n",
    "        self.log(\"train_loss\", loss)\n",
    "        return loss\n",
    "\n",
    "    def test_step(self, batch, batch_idx):\n",
    "        X, y = batch\n",
    "        y_hat = self.model(X)\n",
    "        loss = nn.functional.cross_entropy(y_hat, y)\n",
    "        accuracy = self.accuracy(y_hat, y)\n",
    "        self.log(\"test loss\", loss)\n",
    "        self.log(\"test accuracy\", accuracy)\n",
    "        return {\"test_loss\":loss, \"test_accuracy\": accuracy}\n",
    "\n",
    "\n",
    "class XORDataset(torch.utils.data.Dataset):\n",
    "    def __init__(self, size=1000):\n",
    "        self.size = size\n",
    "        self.input = torch.Tensor([[0,0],[0,1],[1,0],[1,1]])\n",
    "        self.labels = torch.Tensor([0, 1, 1, 0]).long()\n",
    "        self.len = self.input.shape[0]\n",
    "\n",
    "        self.xor_table = [(i, j, int(bool(i) != bool(j))) for i in range(2) for j in range(2)]\n",
    "\n",
    "    def __getitem__(self, idx):\n",
    "        idx = idx % self.len\n",
    "        return (self.input[idx], self.labels[idx]) \n",
    "\n",
    "    def __len__(self):\n",
    "        return self.size\n",
    "\n",
    "\n",
    "\n",
    "\n",
    "class ANDDataset(torch.utils.data.Dataset):\n",
    "    def __init__(self, size=1000):\n",
    "        self.size = size\n",
    "        self.input = torch.Tensor([[0,0],[0,1],[1,0],[1,1]])\n",
    "        self.labels = torch.Tensor([0, 0, 0, 1]).long()\n",
    "        self.len = self.input.shape[0]\n",
    "\n",
    "        self.xor_table = [(i, j, int(bool(i) != bool(j))) for i in range(2) for j in range(2)]\n",
    "\n",
    "    def __getitem__(self, idx):\n",
    "        idx = idx % self.len\n",
    "        return (self.input[idx], self.labels[idx]) \n",
    "\n",
    "    def __len__(self):\n",
    "        return self.size\n",
    "\n",
    "\n"
   ]
  },
  {
   "cell_type": "code",
   "execution_count": 27,
   "metadata": {},
   "outputs": [
    {
     "name": "stderr",
     "output_type": "stream",
     "text": [
      "GPU available: False, used: False\n",
      "TPU available: False, using: 0 TPU cores\n",
      "IPU available: False, using: 0 IPUs\n",
      "HPU available: False, using: 0 HPUs\n",
      "GPU available: False, used: False\n",
      "TPU available: False, using: 0 TPU cores\n",
      "IPU available: False, using: 0 IPUs\n",
      "HPU available: False, using: 0 HPUs\n",
      "/Users/1111108/miniforge3/envs/pt_ml/lib/python3.8/site-packages/pytorch_lightning/trainer/configuration_validator.py:106: UserWarning: You passed in a `val_dataloader` but have no `validation_step`. Skipping val loop.\n",
      "  rank_zero_warn(\"You passed in a `val_dataloader` but have no `validation_step`. Skipping val loop.\")\n",
      "\n",
      "  | Name     | Type               | Params\n",
      "------------------------------------------------\n",
      "0 | model    | Sequential         | 114   \n",
      "1 | loss     | CrossEntropyLoss   | 0     \n",
      "2 | accuracy | MulticlassAccuracy | 0     \n",
      "------------------------------------------------\n",
      "114       Trainable params\n",
      "0         Non-trainable params\n",
      "114       Total params\n",
      "0.000     Total estimated model params size (MB)\n",
      "/Users/1111108/miniforge3/envs/pt_ml/lib/python3.8/site-packages/pytorch_lightning/trainer/connectors/data_connector.py:224: PossibleUserWarning: The dataloader, train_dataloader, does not have many workers which may be a bottleneck. Consider increasing the value of the `num_workers` argument` (try 10 which is the number of cpus on this machine) in the `DataLoader` init to improve performance.\n",
      "  rank_zero_warn(\n"
     ]
    },
    {
     "name": "stdout",
     "output_type": "stream",
     "text": [
      "Epoch 99: 100%|██████████| 250/250 [00:00<00:00, 426.92it/s, loss=0.693, v_num=32]"
     ]
    },
    {
     "name": "stderr",
     "output_type": "stream",
     "text": [
      "`Trainer.fit` stopped: `max_epochs=100` reached.\n"
     ]
    },
    {
     "name": "stdout",
     "output_type": "stream",
     "text": [
      "Epoch 99: 100%|██████████| 250/250 [00:00<00:00, 425.03it/s, loss=0.693, v_num=32]\n"
     ]
    },
    {
     "name": "stderr",
     "output_type": "stream",
     "text": [
      "\n",
      "  | Name     | Type               | Params\n",
      "------------------------------------------------\n",
      "0 | model    | Sequential         | 114   \n",
      "1 | loss     | CrossEntropyLoss   | 0     \n",
      "2 | accuracy | MulticlassAccuracy | 0     \n",
      "------------------------------------------------\n",
      "114       Trainable params\n",
      "0         Non-trainable params\n",
      "114       Total params\n",
      "0.000     Total estimated model params size (MB)\n"
     ]
    },
    {
     "name": "stdout",
     "output_type": "stream",
     "text": [
      "Epoch 99: 100%|██████████| 250/250 [00:00<00:00, 442.02it/s, loss=0, v_num=33]       "
     ]
    },
    {
     "name": "stderr",
     "output_type": "stream",
     "text": [
      "`Trainer.fit` stopped: `max_epochs=100` reached.\n"
     ]
    },
    {
     "name": "stdout",
     "output_type": "stream",
     "text": [
      "Epoch 99: 100%|██████████| 250/250 [00:00<00:00, 439.88it/s, loss=0, v_num=33]\n"
     ]
    }
   ],
   "source": [
    "from torch.utils import data\n",
    "xor_model = LinearNetwork(2,2,lr=3e-4)\n",
    "and_model = LinearNetwork(2,2,lr=3e-4)\n",
    "\n",
    "xor_dataset = XORDataset()\n",
    "and_dataset = ANDDataset()\n",
    "\n",
    "xor_train_loader = data.DataLoader(xor_dataset, batch_size=4)\n",
    "and_train_loader = data.DataLoader(and_dataset, batch_size=4)\n",
    "\n",
    "xor_trainer = pl.Trainer(max_epochs=100)\n",
    "and_trainer = pl.Trainer(max_epochs=100)\n",
    "\n",
    "xor_trainer.fit(xor_model, train_dataloaders=xor_train_loader, val_dataloaders=xor_train_loader)\n",
    "and_trainer.fit(and_model, train_dataloaders=and_train_loader, val_dataloaders=and_train_loader)\n"
   ]
  },
  {
   "cell_type": "code",
   "execution_count": 28,
   "metadata": {},
   "outputs": [
    {
     "name": "stderr",
     "output_type": "stream",
     "text": [
      "/Users/1111108/miniforge3/envs/pt_ml/lib/python3.8/site-packages/pytorch_lightning/trainer/connectors/data_connector.py:224: PossibleUserWarning: The dataloader, test_dataloader 0, does not have many workers which may be a bottleneck. Consider increasing the value of the `num_workers` argument` (try 10 which is the number of cpus on this machine) in the `DataLoader` init to improve performance.\n",
      "  rank_zero_warn(\n"
     ]
    },
    {
     "name": "stdout",
     "output_type": "stream",
     "text": [
      "Testing DataLoader 0: 100%|██████████| 250/250 [00:00<00:00, 709.64it/s]\n",
      "────────────────────────────────────────────────────────────────────────────────────────────────────────────────────────\n",
      "       Test metric             DataLoader 0\n",
      "────────────────────────────────────────────────────────────────────────────────────────────────────────────────────────\n",
      "      test accuracy                 0.5\n",
      "        test loss           0.6931461095809937\n",
      "────────────────────────────────────────────────────────────────────────────────────────────────────────────────────────\n",
      "Testing DataLoader 0: 100%|██████████| 250/250 [00:00<00:00, 757.60it/s]\n",
      "────────────────────────────────────────────────────────────────────────────────────────────────────────────────────────\n",
      "       Test metric             DataLoader 0\n",
      "────────────────────────────────────────────────────────────────────────────────────────────────────────────────────────\n",
      "      test accuracy                 1.0\n",
      "        test loss                   0.0\n",
      "────────────────────────────────────────────────────────────────────────────────────────────────────────────────────────\n"
     ]
    },
    {
     "data": {
      "text/plain": [
       "[{'test loss': 0.0, 'test accuracy': 1.0}]"
      ]
     },
     "execution_count": 28,
     "metadata": {},
     "output_type": "execute_result"
    }
   ],
   "source": [
    "xor_trainer.test(xor_model, dataloaders=xor_train_loader)\n",
    "and_trainer.test(and_model, dataloaders=and_train_loader)"
   ]
  },
  {
   "attachments": {},
   "cell_type": "markdown",
   "metadata": {},
   "source": [
    "- linear layer만으로 classification model을 만들었을때...\n",
    "  - AND는 거의 완벽한 fit를 보여줌\n",
    "  - XOR는 같은 조건에서 0.5의 정확도를 보여줌\n",
    "\n",
    "- 똑같은 구조에 각각의 Linear Layer사이에 Non-Linear Layer를 추가해서 Model에 Non-linearity를 추가함"
   ]
  },
  {
   "cell_type": "code",
   "execution_count": 29,
   "metadata": {},
   "outputs": [],
   "source": [
    "\n",
    "\n",
    "class NonLinearNetwork(pl.LightningModule):\n",
    "    def __init__(self, input_features, output_features, lr):\n",
    "        super().__init__()\n",
    "        barrel_size = input_features * 4\n",
    "        self.lr = lr\n",
    "        self.model = nn.Sequential(\n",
    "            nn.Linear(input_features, barrel_size),\n",
    "            nn.ReLU(),\n",
    "            nn.Linear(barrel_size, barrel_size),\n",
    "            nn.ReLU(),\n",
    "            nn.Linear(barrel_size, output_features)\n",
    "        )\n",
    "        \n",
    "        self.loss = nn.CrossEntropyLoss()\n",
    "        self.accuracy = Accuracy(task='multiclass', num_classes=2)\n",
    "\n",
    "    def configure_optimizers(self):\n",
    "        return torch.optim.Adam(self.parameters(), lr=self.lr)\n",
    "        \n",
    "    def forward(self, X):\n",
    "        return self.model(X)\n",
    "    \n",
    "    def training_step(self, batch, batch_idx) -> torch.Tensor:\n",
    "        X, y = batch\n",
    "        y_hat = self.model(X)\n",
    "        loss = self.loss(y_hat, y)\n",
    "        self.log(\"train_loss\", loss)\n",
    "        return loss\n",
    "\n",
    "    def validation_step(self, batch, batch_idx):\n",
    "        X, y = batch\n",
    "        y_hat = self.model(X)\n",
    "        loss = nn.functional.cross_entropy(y_hat, y)\n",
    "        accuracy = self.accuracy(y_hat, y)\n",
    "        self.log(\"val_loss\", loss)\n",
    "        self.log(\"val_accuracy\", accuracy)\n",
    "        return {\"val_loss\":loss, \"val_accuracy\": accuracy}\n",
    "\n",
    "    def test_step(self, batch, batch_idx):\n",
    "        X, y = batch\n",
    "        y_hat = self.model(X)\n",
    "        loss = nn.functional.cross_entropy(y_hat, y)\n",
    "        accuracy = self.accuracy(y_hat, y)\n",
    "        self.log(\"test loss\", loss)\n",
    "        self.log(\"test accuracy\", accuracy)\n",
    "        return {\"test_loss\":loss, \"test_accuracy\": accuracy}"
   ]
  },
  {
   "cell_type": "code",
   "execution_count": 30,
   "metadata": {},
   "outputs": [
    {
     "name": "stderr",
     "output_type": "stream",
     "text": [
      "GPU available: False, used: False\n",
      "TPU available: False, using: 0 TPU cores\n",
      "IPU available: False, using: 0 IPUs\n",
      "HPU available: False, using: 0 HPUs\n",
      "GPU available: False, used: False\n",
      "TPU available: False, using: 0 TPU cores\n",
      "IPU available: False, using: 0 IPUs\n",
      "HPU available: False, using: 0 HPUs\n",
      "/Users/1111108/miniforge3/envs/pt_ml/lib/python3.8/site-packages/pytorch_lightning/trainer/configuration_validator.py:108: PossibleUserWarning: You defined a `validation_step` but have no `val_dataloader`. Skipping val loop.\n",
      "  rank_zero_warn(\n",
      "\n",
      "  | Name     | Type               | Params\n",
      "------------------------------------------------\n",
      "0 | model    | Sequential         | 114   \n",
      "1 | loss     | CrossEntropyLoss   | 0     \n",
      "2 | accuracy | MulticlassAccuracy | 0     \n",
      "------------------------------------------------\n",
      "114       Trainable params\n",
      "0         Non-trainable params\n",
      "114       Total params\n",
      "0.000     Total estimated model params size (MB)\n"
     ]
    },
    {
     "name": "stdout",
     "output_type": "stream",
     "text": [
      "Epoch 99: 100%|██████████| 250/250 [00:00<00:00, 425.52it/s, loss=0.000243, v_num=34]"
     ]
    },
    {
     "name": "stderr",
     "output_type": "stream",
     "text": [
      "`Trainer.fit` stopped: `max_epochs=100` reached.\n"
     ]
    },
    {
     "name": "stdout",
     "output_type": "stream",
     "text": [
      "Epoch 99: 100%|██████████| 250/250 [00:00<00:00, 423.17it/s, loss=0.000243, v_num=34]\n"
     ]
    },
    {
     "name": "stderr",
     "output_type": "stream",
     "text": [
      "\n",
      "  | Name     | Type               | Params\n",
      "------------------------------------------------\n",
      "0 | model    | Sequential         | 114   \n",
      "1 | loss     | CrossEntropyLoss   | 0     \n",
      "2 | accuracy | MulticlassAccuracy | 0     \n",
      "------------------------------------------------\n",
      "114       Trainable params\n",
      "0         Non-trainable params\n",
      "114       Total params\n",
      "0.000     Total estimated model params size (MB)\n"
     ]
    },
    {
     "name": "stdout",
     "output_type": "stream",
     "text": [
      "Epoch 99: 100%|██████████| 250/250 [00:00<00:00, 434.89it/s, loss=0.00034, v_num=35] "
     ]
    },
    {
     "name": "stderr",
     "output_type": "stream",
     "text": [
      "`Trainer.fit` stopped: `max_epochs=100` reached.\n"
     ]
    },
    {
     "name": "stdout",
     "output_type": "stream",
     "text": [
      "Epoch 99: 100%|██████████| 250/250 [00:00<00:00, 431.94it/s, loss=0.00034, v_num=35]\n"
     ]
    }
   ],
   "source": [
    "versatile_xor_fitter = NonLinearNetwork(2,2, lr=2e-4)\n",
    "versatile_and_fitter = NonLinearNetwork(2,2, lr=2e-4)\n",
    "\n",
    "xor_trainer = pl.Trainer(max_epochs=100)\n",
    "and_trainer = pl.Trainer(max_epochs=100)\n",
    "\n",
    "xor_trainer.fit(model=versatile_xor_fitter, train_dataloaders=xor_train_loader)\n",
    "and_trainer.fit(model=versatile_and_fitter, train_dataloaders=and_train_loader)"
   ]
  },
  {
   "cell_type": "code",
   "execution_count": 31,
   "metadata": {},
   "outputs": [
    {
     "name": "stdout",
     "output_type": "stream",
     "text": [
      "Testing DataLoader 0: 100%|██████████| 250/250 [00:00<00:00, 733.89it/s]\n",
      "────────────────────────────────────────────────────────────────────────────────────────────────────────────────────────\n",
      "       Test metric             DataLoader 0\n",
      "────────────────────────────────────────────────────────────────────────────────────────────────────────────────────────\n",
      "      test accuracy                 1.0\n",
      "        test loss          0.0003390689962543547\n",
      "────────────────────────────────────────────────────────────────────────────────────────────────────────────────────────\n",
      "Testing DataLoader 0: 100%|██████████| 250/250 [00:00<00:00, 746.26it/s]\n",
      "────────────────────────────────────────────────────────────────────────────────────────────────────────────────────────\n",
      "       Test metric             DataLoader 0\n",
      "────────────────────────────────────────────────────────────────────────────────────────────────────────────────────────\n",
      "      test accuracy                 1.0\n",
      "        test loss         0.00024202543136198074\n",
      "────────────────────────────────────────────────────────────────────────────────────────────────────────────────────────\n"
     ]
    },
    {
     "data": {
      "text/plain": [
       "[{'test loss': 0.00024202543136198074, 'test accuracy': 1.0}]"
      ]
     },
     "execution_count": 31,
     "metadata": {},
     "output_type": "execute_result"
    }
   ],
   "source": [
    "and_trainer.test(model=versatile_and_fitter, dataloaders=and_train_loader)\n",
    "xor_trainer.test(model=versatile_xor_fitter, dataloaders=xor_train_loader)"
   ]
  }
 ],
 "metadata": {
  "kernelspec": {
   "display_name": "Python 3",
   "language": "python",
   "name": "python3"
  },
  "language_info": {
   "codemirror_mode": {
    "name": "ipython",
    "version": 3
   },
   "file_extension": ".py",
   "mimetype": "text/x-python",
   "name": "python",
   "nbconvert_exporter": "python",
   "pygments_lexer": "ipython3",
   "version": "3.8.12"
  },
  "orig_nbformat": 4,
  "vscode": {
   "interpreter": {
    "hash": "4403911a2e5328a2388045afd6ad0f2a280efee32e3a026a0927c8cc844fc75f"
   }
  }
 },
 "nbformat": 4,
 "nbformat_minor": 2
}
