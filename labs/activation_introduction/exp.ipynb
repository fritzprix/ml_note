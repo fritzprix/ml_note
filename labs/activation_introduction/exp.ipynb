{
 "cells": [
  {
   "cell_type": "code",
   "execution_count": 1,
   "metadata": {},
   "outputs": [],
   "source": [
    "import torch\n",
    "import pytorch_lightning as pl\n",
    "from torch import nn\n",
    "\n",
    "\n",
    "XOR = (torch.Tensor([[0,0],[0,1],[1,0],[1,1]]), torch.Tensor([0, 1, 1, 0]))\n",
    "\n",
    "class LinearNetwork(pl.LightningModule):\n",
    "    def __init__(self, input_features, output_features):\n",
    "        super().__init__()\n",
    "        barrel_size = input_features * 4\n",
    "        self.model = nn.Sequential(\n",
    "            nn.Linear(input_features, barrel_size),\n",
    "            nn.Linear(barrel_size, barrel_size),\n",
    "            nn.Linear(barrel_size, output_features)\n",
    "        )\n",
    "        \n",
    "        self.loss = nn.MSELoss()\n",
    "    \n",
    "    def training_step(self, batch, batch_idx) -> torch.Tensor:\n",
    "        X, y = batch\n",
    "        y_hat = self.model(X)\n",
    "        loss = self.loss(y_hat, y)\n",
    "        self.log(\"train_loss\", loss)\n",
    "        return loss\n",
    "\n"
   ]
  }
 ],
 "metadata": {
  "kernelspec": {
   "display_name": "directml",
   "language": "python",
   "name": "python3"
  },
  "language_info": {
   "codemirror_mode": {
    "name": "ipython",
    "version": 3
   },
   "file_extension": ".py",
   "mimetype": "text/x-python",
   "name": "python",
   "nbconvert_exporter": "python",
   "pygments_lexer": "ipython3",
   "version": "3.10.8"
  },
  "orig_nbformat": 4,
  "vscode": {
   "interpreter": {
    "hash": "edb556f56090483d5667fc1805cce521f8e848c88548a616016dff11d20e0bca"
   }
  }
 },
 "nbformat": 4,
 "nbformat_minor": 2
}
