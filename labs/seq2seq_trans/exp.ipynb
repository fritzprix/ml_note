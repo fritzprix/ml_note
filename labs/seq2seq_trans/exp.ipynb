{
 "cells": [
  {
   "attachments": {},
   "cell_type": "markdown",
   "metadata": {},
   "source": [
    "# Seq2Seq Example. - building Kor-En Translator\n",
    "\n",
    "## Strategy\n",
    "- Pretrain Decoder - Endcoder for each dataset (Korean, English)\n",
    "  - Korean Encoder Training\n",
    "  - English Decoder Training\n",
    "  - English Encoder Training\n",
    "  - Korean Decoder Training\n",
    "- End-to-End Training - parallel corpus text dataset\n",
    "  - Korean - English Translator\n",
    "  - English - Korean Translator\n",
    "- \n"
   ]
  },
  {
   "cell_type": "code",
   "execution_count": 3,
   "metadata": {},
   "outputs": [
    {
     "name": "stderr",
     "output_type": "stream",
     "text": [
      "Using custom data configuration Moo--korean-parallel-corpora-152c18962d41c571\n",
      "Found cached dataset csv (/home/fritzprix/.cache/huggingface/datasets/Moo___csv/Moo--korean-parallel-corpora-152c18962d41c571/0.0.0/6b34fb8fcf56f7c8ba51dc895bfa2bfbe43546f190a60fcf74bb5e8afdcc2317)\n"
     ]
    },
    {
     "data": {
      "application/vnd.jupyter.widget-view+json": {
       "model_id": "2d22fd4cce6742a5a75e2923491b1a39",
       "version_major": 2,
       "version_minor": 0
      },
      "text/plain": [
       "  0%|          | 0/3 [00:00<?, ?it/s]"
      ]
     },
     "metadata": {},
     "output_type": "display_data"
    },
    {
     "name": "stderr",
     "output_type": "stream",
     "text": [
      "Using custom data configuration Moo--korean-parallel-corpora-152c18962d41c571\n",
      "Found cached dataset csv (/home/fritzprix/.cache/huggingface/datasets/Moo___csv/Moo--korean-parallel-corpora-152c18962d41c571/0.0.0/6b34fb8fcf56f7c8ba51dc895bfa2bfbe43546f190a60fcf74bb5e8afdcc2317)\n"
     ]
    },
    {
     "data": {
      "application/vnd.jupyter.widget-view+json": {
       "model_id": "4295d96bd91c484bbb3e387142712929",
       "version_major": 2,
       "version_minor": 0
      },
      "text/plain": [
       "  0%|          | 0/3 [00:00<?, ?it/s]"
      ]
     },
     "metadata": {},
     "output_type": "display_data"
    },
    {
     "name": "stderr",
     "output_type": "stream",
     "text": [
      "/home/fritzprix/miniconda3/envs/directml/lib/python3.10/site-packages/torch/nn/modules/lazy.py:180: UserWarning: Lazy modules are a new feature under heavy development so changes to the API or functionality can happen at any moment.\n",
      "  warnings.warn('Lazy modules are a new feature under heavy development '\n"
     ]
    }
   ],
   "source": [
    "from model import KorEncoder\n",
    "from data import KoEnParallel, Korean\n",
    "from transformers import AutoTokenizer, GPT2TokenizerFast\n",
    "from torch.utils import data\n",
    "\n",
    "ko_tokenizer = AutoTokenizer.from_pretrained(\"skt/ko-gpt-trinity-1.2B-v0.5\")\n",
    "# en_tokenizer = GPT2TokenizerFast.from_pretrained(\"gpt2\")\n",
    "\n",
    "ko_train_dataset = Korean(ko_tokenizer, 1024, 'train')\n",
    "ko_val_dataset = Korean(ko_tokenizer, 1024, 'validation')\n",
    "\n",
    "train_dataloader = data.DataLoader(ko_train_dataset, batch_size=10, collate_fn=ko_train_dataset)\n",
    "val_dataloader = data.DataLoader(ko_val_dataset,batch_size=10, collate_fn=ko_val_dataset)\n",
    "ko_encoder = KorEncoder(len(ko_tokenizer.vocab), 128, 128, 2, padding_id=ko_tokenizer.pad_token_id)\n"
   ]
  },
  {
   "cell_type": "code",
   "execution_count": 4,
   "metadata": {},
   "outputs": [
    {
     "name": "stderr",
     "output_type": "stream",
     "text": [
      "GPU available: True (cuda), used: True\n",
      "TPU available: False, using: 0 TPU cores\n",
      "IPU available: False, using: 0 IPUs\n",
      "HPU available: False, using: 0 HPUs\n",
      "/home/fritzprix/miniconda3/envs/directml/lib/python3.10/site-packages/pytorch_lightning/loops/utilities.py:94: PossibleUserWarning: `max_epochs` was not set. Setting it to 1000 epochs. To train without an epoch limit, set `max_epochs=-1`.\n",
      "  rank_zero_warn(\n",
      "LOCAL_RANK: 0 - CUDA_VISIBLE_DEVICES: [0]\n",
      "\n",
      "  | Name      | Type             | Params\n",
      "-----------------------------------------------\n",
      "0 | embedding | Embedding        | 6.6 M \n",
      "1 | enc       | GRU              | 494 K \n",
      "2 | fc        | LazyLinear       | 0     \n",
      "3 | loss      | CrossEntropyLoss | 0     \n",
      "-----------------------------------------------\n",
      "7.0 M     Trainable params\n",
      "0         Non-trainable params\n",
      "7.0 M     Total params\n",
      "28.193    Total estimated model params size (MB)\n"
     ]
    },
    {
     "data": {
      "application/vnd.jupyter.widget-view+json": {
       "model_id": "b4f58d061c5048e689d10f093ae7f06d",
       "version_major": 2,
       "version_minor": 0
      },
      "text/plain": [
       "Sanity Checking: 0it [00:00, ?it/s]"
      ]
     },
     "metadata": {},
     "output_type": "display_data"
    },
    {
     "name": "stderr",
     "output_type": "stream",
     "text": [
      "/home/fritzprix/miniconda3/envs/directml/lib/python3.10/site-packages/pytorch_lightning/trainer/connectors/data_connector.py:224: PossibleUserWarning: The dataloader, val_dataloader 0, does not have many workers which may be a bottleneck. Consider increasing the value of the `num_workers` argument` (try 16 which is the number of cpus on this machine) in the `DataLoader` init to improve performance.\n",
      "  rank_zero_warn(\n",
      "/home/fritzprix/miniconda3/envs/directml/lib/python3.10/site-packages/pytorch_lightning/trainer/connectors/data_connector.py:224: PossibleUserWarning: The dataloader, train_dataloader, does not have many workers which may be a bottleneck. Consider increasing the value of the `num_workers` argument` (try 16 which is the number of cpus on this machine) in the `DataLoader` init to improve performance.\n",
      "  rank_zero_warn(\n"
     ]
    },
    {
     "name": "stdout",
     "output_type": "stream",
     "text": [
      "torch.Size([10, 49, 51200])\n",
      "torch.Size([10, 54, 51200])\n"
     ]
    },
    {
     "data": {
      "application/vnd.jupyter.widget-view+json": {
       "model_id": "65932ea37b074d6aa447afbe342fe001",
       "version_major": 2,
       "version_minor": 0
      },
      "text/plain": [
       "Training: 0it [00:00, ?it/s]"
      ]
     },
     "metadata": {},
     "output_type": "display_data"
    },
    {
     "data": {
      "application/vnd.jupyter.widget-view+json": {
       "model_id": "17dc4dde500146febb5fa9a1a3e3fb48",
       "version_major": 2,
       "version_minor": 0
      },
      "text/plain": [
       "Validation: 0it [00:00, ?it/s]"
      ]
     },
     "metadata": {},
     "output_type": "display_data"
    },
    {
     "name": "stdout",
     "output_type": "stream",
     "text": [
      "torch.Size([10, 49, 51200])\n",
      "torch.Size([10, 54, 51200])\n",
      "torch.Size([10, 41, 51200])\n",
      "torch.Size([10, 32, 51200])\n",
      "torch.Size([10, 35, 51200])\n",
      "torch.Size([10, 32, 51200])\n",
      "torch.Size([10, 55, 51200])\n",
      "torch.Size([10, 51, 51200])\n",
      "torch.Size([10, 71, 51200])\n",
      "torch.Size([10, 76, 51200])\n",
      "torch.Size([10, 54, 51200])\n",
      "torch.Size([10, 42, 51200])\n",
      "torch.Size([10, 46, 51200])\n",
      "torch.Size([10, 59, 51200])\n",
      "torch.Size([10, 44, 51200])\n",
      "torch.Size([10, 57, 51200])\n",
      "torch.Size([10, 53, 51200])\n",
      "torch.Size([10, 55, 51200])\n",
      "torch.Size([10, 40, 51200])\n",
      "torch.Size([10, 36, 51200])\n",
      "torch.Size([10, 44, 51200])\n",
      "torch.Size([10, 30, 51200])\n",
      "torch.Size([10, 60, 51200])\n",
      "torch.Size([10, 67, 51200])\n",
      "torch.Size([10, 42, 51200])\n",
      "torch.Size([10, 47, 51200])\n",
      "torch.Size([10, 58, 51200])\n",
      "torch.Size([10, 35, 51200])\n",
      "torch.Size([10, 36, 51200])\n",
      "torch.Size([10, 30, 51200])\n",
      "torch.Size([10, 60, 51200])\n",
      "torch.Size([10, 40, 51200])\n",
      "torch.Size([10, 55, 51200])\n",
      "torch.Size([10, 42, 51200])\n",
      "torch.Size([10, 44, 51200])\n",
      "torch.Size([10, 44, 51200])\n",
      "torch.Size([10, 34, 51200])\n",
      "torch.Size([10, 67, 51200])\n",
      "torch.Size([10, 39, 51200])\n",
      "torch.Size([10, 51, 51200])\n",
      "torch.Size([10, 36, 51200])\n",
      "torch.Size([10, 49, 51200])\n",
      "torch.Size([10, 32, 51200])\n",
      "torch.Size([10, 73, 51200])\n",
      "torch.Size([10, 97, 51200])\n",
      "torch.Size([10, 85, 51200])\n",
      "torch.Size([10, 77, 51200])\n",
      "torch.Size([10, 43, 51200])\n",
      "torch.Size([10, 38, 51200])\n",
      "torch.Size([10, 45, 51200])\n",
      "torch.Size([10, 34, 51200])\n",
      "torch.Size([10, 51, 51200])\n",
      "torch.Size([10, 34, 51200])\n",
      "torch.Size([10, 43, 51200])\n",
      "torch.Size([10, 52, 51200])\n",
      "torch.Size([10, 45, 51200])\n",
      "torch.Size([10, 42, 51200])\n",
      "torch.Size([10, 47, 51200])\n",
      "torch.Size([10, 33, 51200])\n",
      "torch.Size([10, 54, 51200])\n",
      "torch.Size([10, 47, 51200])\n",
      "torch.Size([10, 50, 51200])\n",
      "torch.Size([10, 44, 51200])\n",
      "torch.Size([10, 57, 51200])\n",
      "torch.Size([10, 49, 51200])\n",
      "torch.Size([10, 44, 51200])\n",
      "torch.Size([10, 41, 51200])\n",
      "torch.Size([10, 43, 51200])\n",
      "torch.Size([10, 54, 51200])\n",
      "torch.Size([10, 50, 51200])\n",
      "torch.Size([10, 69, 51200])\n",
      "torch.Size([10, 67, 51200])\n",
      "torch.Size([10, 33, 51200])\n",
      "torch.Size([10, 61, 51200])\n",
      "torch.Size([10, 50, 51200])\n",
      "torch.Size([10, 45, 51200])\n",
      "torch.Size([10, 61, 51200])\n",
      "torch.Size([10, 51, 51200])\n",
      "torch.Size([10, 41, 51200])\n",
      "torch.Size([10, 49, 51200])\n",
      "torch.Size([10, 58, 51200])\n",
      "torch.Size([10, 44, 51200])\n",
      "torch.Size([10, 49, 51200])\n",
      "torch.Size([10, 36, 51200])\n",
      "torch.Size([10, 53, 51200])\n",
      "torch.Size([10, 57, 51200])\n",
      "torch.Size([10, 39, 51200])\n",
      "torch.Size([10, 41, 51200])\n",
      "torch.Size([10, 40, 51200])\n",
      "torch.Size([10, 58, 51200])\n",
      "torch.Size([10, 36, 51200])\n",
      "torch.Size([10, 53, 51200])\n",
      "torch.Size([10, 43, 51200])\n",
      "torch.Size([10, 42, 51200])\n",
      "torch.Size([10, 27, 51200])\n",
      "torch.Size([10, 38, 51200])\n",
      "torch.Size([10, 44, 51200])\n",
      "torch.Size([10, 53, 51200])\n",
      "torch.Size([10, 59, 51200])\n",
      "torch.Size([10, 41, 51200])\n"
     ]
    },
    {
     "name": "stderr",
     "output_type": "stream",
     "text": [
      "/home/fritzprix/miniconda3/envs/directml/lib/python3.10/site-packages/pytorch_lightning/trainer/call.py:48: UserWarning: Detected KeyboardInterrupt, attempting graceful shutdown...\n",
      "  rank_zero_warn(\"Detected KeyboardInterrupt, attempting graceful shutdown...\")\n"
     ]
    }
   ],
   "source": [
    "import pytorch_lightning as pl\n",
    "from pytorch_lightning import loggers, callbacks\n",
    "\n",
    "logger = loggers.TensorBoardLogger('logs')\n",
    "model_checkout = callbacks.ModelCheckpoint('model/encoder', filename='model-{epoch}-{val_loss:.3f}')\n",
    "\n",
    "trainer = pl.Trainer(logger=logger, accelerator='gpu', callbacks=[model_checkout])\n",
    "trainer.fit(model=ko_encoder, train_dataloaders=train_dataloader, val_dataloaders=val_dataloader)\n",
    "\n",
    "\n"
   ]
  }
 ],
 "metadata": {
  "kernelspec": {
   "display_name": "directml",
   "language": "python",
   "name": "python3"
  },
  "language_info": {
   "codemirror_mode": {
    "name": "ipython",
    "version": 3
   },
   "file_extension": ".py",
   "mimetype": "text/x-python",
   "name": "python",
   "nbconvert_exporter": "python",
   "pygments_lexer": "ipython3",
   "version": "3.10.8"
  },
  "orig_nbformat": 4,
  "vscode": {
   "interpreter": {
    "hash": "edb556f56090483d5667fc1805cce521f8e848c88548a616016dff11d20e0bca"
   }
  }
 },
 "nbformat": 4,
 "nbformat_minor": 2
}
